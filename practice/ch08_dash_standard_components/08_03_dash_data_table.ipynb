{
 "cells": [
  {
   "cell_type": "markdown",
   "metadata": {},
   "source": [
    "# <span style=\"color: skyblue; \">Ch08 Dash の標準コンポーネント</span>"
   ]
  },
  {
   "cell_type": "markdown",
   "metadata": {},
   "source": [
    "## <span style=\"color: skyblue; \">8.3 Dash Data Table</span>\n",
    "\n",
    "- Dash Data Table\n",
    "  - インタラクティブなテーブルを作成するためのコンポーネント\n",
    "  - 作成したテーブル上で編集ができる\n",
    "  - データをローカルに保存することができる"
   ]
  },
  {
   "cell_type": "markdown",
   "metadata": {},
   "source": [
    "### <span style=\"color: skyblue; \">8.3.1 テーブルを作成</span>\n",
    "\n",
    "- 引数 columns に渡す dict() のキーには\"name\"と\"id\"は必須\n",
    "  - \"name\": テーブルに表示される列名\n",
    "  - \"id\": data 属性に渡す際のキーとして用いる\n",
    "- 引数 data に渡す dict() のキーには、引数 columns に渡した\"id\"を用いる\n",
    "  - 値はテーブル内の値を設定する\n",
    "- fill_width=True(default): 画面の横幅いっぱいに表示する\n",
    "  - fill_width=False: 各列の値や列名の長さに合わせて調整される"
   ]
  },
  {
   "cell_type": "code",
   "execution_count": 1,
   "metadata": {},
   "outputs": [
    {
     "name": "stdout",
     "output_type": "stream",
     "text": [
      "Dash app running on http://127.0.0.1:8050/\n"
     ]
    }
   ],
   "source": [
    "# Data Table クラスを用いて、\n",
    "# 6 行 3 列のテーブルを作成する\n",
    "\n",
    "from jupyter_dash import JupyterDash\n",
    "import dash\n",
    "from dash import html, dash_table\n",
    "\n",
    "app = JupyterDash(__name__)\n",
    "\n",
    "def server_layout():\n",
    "    return html.Div([\n",
    "        html.Div(\n",
    "            dash_table.DataTable(\n",
    "                columns=[\n",
    "                    dict(name=\"number\", id=\"number\"),\n",
    "                    dict(name=\"region\", id=\"area\"),\n",
    "                    dict(name=\"tsuyu_iri\", id=\"tsuyu_iri\"),\n",
    "                ],\n",
    "                data=[\n",
    "                    dict(number=0, area=\"okinawa\", tsuyu_iri=\"5/16\"),  # type: ignore\n",
    "                    dict(number=1, area=\"kyusyu-south\", tsuyu_iri=\"5/31\"),  # type: ignore\n",
    "                    dict(number=2, area=\"kyusyu-north\", tsuyu_iri=\"6/26\"),  # type: ignore\n",
    "                    dict(number=3, area=\"shioku\", tsuyu_iri=\"6/26\"),  # type: ignore\n",
    "                    dict(number=4, area=\"chugoku\", tsuyu_iri=\"6/26\"),  # type: ignore\n",
    "                    dict(number=5, area=\"kinki\", tsuyu_iri=\"6/26\"),  # type: ignore\n",
    "                ],\n",
    "                # テーブルを画面いっぱいに広げない\n",
    "                fill_width=False\n",
    "            )\n",
    "        ),\n",
    "        html.Div(\n",
    "            dash_table.DataTable(\n",
    "                columns=[\n",
    "                    dict(name=\"number\", id=\"number\"),\n",
    "                    dict(name=\"region\", id=\"area\"),\n",
    "                    dict(name=\"tsuyu_iri\", id=\"tsuyu_iri\"),\n",
    "                ],\n",
    "                data=[\n",
    "                    dict(number=0, area=\"okinawa\", tsuyu_iri=\"5/16\"),  # type: ignore\n",
    "                    dict(number=1, area=\"kyusyu-south\", tsuyu_iri=\"5/31\"),  # type: ignore\n",
    "                    dict(number=2, area=\"kyusyu-north\", tsuyu_iri=\"6/26\"),  # type: ignore\n",
    "                    dict(number=3, area=\"shioku\", tsuyu_iri=\"6/26\"),  # type: ignore\n",
    "                    dict(number=4, area=\"chugoku\", tsuyu_iri=\"6/26\"),  # type: ignore\n",
    "                    dict(number=5, area=\"kinki\", tsuyu_iri=\"6/26\"),  # type: ignore\n",
    "                ],\n",
    "                # テーブルを画面いっぱいに広げる\n",
    "                fill_width=True\n",
    "            )\n",
    "        ),\n",
    "    ])\n",
    "app.layout = server_layout\n",
    "\n",
    "if __name__ == \"__main__\":\n",
    "    app.run_server(debug=True)"
   ]
  },
  {
   "cell_type": "markdown",
   "metadata": {},
   "source": [
    "### <span style=\"color: skyblue; \">8.3.2 テーブルを一括してスタイル設定</span>\n",
    "\n",
    "- DataTable コンポーネントに引数 style_cell を加え、セルに対してスタイルを設定してすべてのセルを装飾する"
   ]
  },
  {
   "cell_type": "code",
   "execution_count": 1,
   "metadata": {},
   "outputs": [
    {
     "name": "stdout",
     "output_type": "stream",
     "text": [
      "Dash app running on http://127.0.0.1:8050/\n"
     ]
    }
   ],
   "source": [
    "# Data Table クラスを用いて、\n",
    "# 6 行 3 列のテーブルを作成する\n",
    "\n",
    "from jupyter_dash import JupyterDash\n",
    "import dash\n",
    "from dash import html, dash_table\n",
    "\n",
    "app = JupyterDash(__name__)\n",
    "\n",
    "def server_layout():\n",
    "    return html.Div([\n",
    "        html.Div(\n",
    "            dash_table.DataTable(\n",
    "                columns=[\n",
    "                    dict(name=\"number\", id=\"number\"),\n",
    "                    dict(name=\"region\", id=\"area\"),\n",
    "                    dict(name=\"tsuyu_iri\", id=\"tsuyu_iri\"),\n",
    "                ],\n",
    "                data=[\n",
    "                    dict(number=0, area=\"okinawa\", tsuyu_iri=\"5/16\"),  # type: ignore\n",
    "                    dict(number=1, area=\"kyusyu-south\", tsuyu_iri=\"5/31\"),  # type: ignore\n",
    "                    dict(number=2, area=\"kyusyu-north\", tsuyu_iri=\"6/26\"),  # type: ignore\n",
    "                    dict(number=3, area=\"shioku\", tsuyu_iri=\"6/26\"),  # type: ignore\n",
    "                    dict(number=4, area=\"chugoku\", tsuyu_iri=\"6/26\"),  # type: ignore\n",
    "                    dict(number=5, area=\"kinki\", tsuyu_iri=\"6/26\"),  # type: ignore\n",
    "                ],\n",
    "                fill_width=False\n",
    "            )\n",
    "        ),\n",
    "        html.Br(),\n",
    "        html.Div(\n",
    "            dash_table.DataTable(\n",
    "                columns=[\n",
    "                    dict(name=\"number\", id=\"number\"),\n",
    "                    dict(name=\"region\", id=\"area\"),\n",
    "                    dict(name=\"tsuyu_iri\", id=\"tsuyu_iri\"),\n",
    "                ],\n",
    "                data=[\n",
    "                    dict(number=0, area=\"okinawa\", tsuyu_iri=\"5/16\"),  # type: ignore\n",
    "                    dict(number=1, area=\"kyusyu-south\", tsuyu_iri=\"5/31\"),  # type: ignore\n",
    "                    dict(number=2, area=\"kyusyu-north\", tsuyu_iri=\"6/26\"),  # type: ignore\n",
    "                    dict(number=3, area=\"shioku\", tsuyu_iri=\"6/26\"),  # type: ignore\n",
    "                    dict(number=4, area=\"chugoku\", tsuyu_iri=\"6/26\"),  # type: ignore\n",
    "                    dict(number=5, area=\"kinki\", tsuyu_iri=\"6/26\"),  # type: ignore\n",
    "                ],\n",
    "                fill_width=False,\n",
    "                style_cell=dict(width=160, fontSize=24, textAlign=\"center\")\n",
    "            )\n",
    "        ),\n",
    "    ])\n",
    "app.layout = server_layout\n",
    "\n",
    "if __name__ == \"__main__\":\n",
    "    app.run_server(debug=True)"
   ]
  },
  {
   "cell_type": "markdown",
   "metadata": {},
   "source": [
    "### <span style=\"color: skyblue; \">8.3.3 テーブルを要素ごとに装飾</span>\n",
    "\n",
    "- セルの条件に応じてスタイルを適用できる\n",
    "  - style_<*target*>_conditional 属性を用いる"
   ]
  },
  {
   "cell_type": "code",
   "execution_count": 1,
   "metadata": {},
   "outputs": [
    {
     "name": "stdout",
     "output_type": "stream",
     "text": [
      "Dash app running on http://127.0.0.1:8050/\n"
     ]
    }
   ],
   "source": [
    "# Data Table クラスを用いて、\n",
    "# 6 行 3 列のテーブルを作成する\n",
    "\n",
    "from jupyter_dash import JupyterDash\n",
    "import dash\n",
    "from dash import html, dash_table\n",
    "\n",
    "app = JupyterDash(__name__)\n",
    "\n",
    "def server_layout():\n",
    "    return html.Div([\n",
    "        html.Div(\n",
    "            dash_table.DataTable(\n",
    "                columns=[\n",
    "                    dict(name=\"number\", id=\"number\"),\n",
    "                    dict(name=\"region\", id=\"area\"),\n",
    "                    dict(name=\"tsuyu_iri\", id=\"tsuyu_iri\"),\n",
    "                ],\n",
    "                data=[\n",
    "                    dict(number=0, area=\"okinawa\", tsuyu_iri=\"5/16\"),  # type: ignore\n",
    "                    dict(number=1, area=\"kyusyu-south\", tsuyu_iri=\"5/31\"),  # type: ignore\n",
    "                    dict(number=2, area=\"kyusyu-north\", tsuyu_iri=\"6/26\"),  # type: ignore\n",
    "                    dict(number=3, area=\"shioku\", tsuyu_iri=\"6/26\"),  # type: ignore\n",
    "                    dict(number=4, area=\"chugoku\", tsuyu_iri=\"6/26\"),  # type: ignore\n",
    "                    dict(number=5, area=\"kinki\", tsuyu_iri=\"6/26\"),  # type: ignore\n",
    "                ],\n",
    "                fill_width=False\n",
    "            )\n",
    "        ),\n",
    "        html.Br(),\n",
    "        html.Div(\n",
    "            dash_table.DataTable(\n",
    "                columns=[\n",
    "                    dict(name=\"number\", id=\"number\"),\n",
    "                    dict(name=\"region\", id=\"area\"),\n",
    "                    dict(name=\"tsuyu_iri\", id=\"tsuyu_iri\"),\n",
    "                ],\n",
    "                data=[\n",
    "                    dict(number=0, area=\"okinawa\", tsuyu_iri=\"5/16\"),  # type: ignore\n",
    "                    dict(number=1, area=\"kyusyu-south\", tsuyu_iri=\"5/31\"),  # type: ignore\n",
    "                    dict(number=2, area=\"kyusyu-north\", tsuyu_iri=\"6/26\"),  # type: ignore\n",
    "                    dict(number=3, area=\"shioku\", tsuyu_iri=\"6/26\"),  # type: ignore\n",
    "                    dict(number=4, area=\"chugoku\", tsuyu_iri=\"6/26\"),  # type: ignore\n",
    "                    dict(number=5, area=\"kinki\", tsuyu_iri=\"6/26\"),  # type: ignore\n",
    "                ],\n",
    "                fill_width=False,\n",
    "                style_cell_conditional = [\n",
    "                    {\n",
    "                        # 条件を辞書で渡す\n",
    "                        \"if\": dict(column_id=\"number\"),\n",
    "                        # 条件を満たした場合の装飾\n",
    "                        \"fontSize\": 24,\n",
    "                        \"backgroundColor\": \"#FFEEE4\"\n",
    "                    }\n",
    "                ],\n",
    "                # ヘッダーのスタイル\n",
    "                style_header_conditional = [\n",
    "                    {\"if\": dict(column_id=\"area\"), \"textAlign\": \"center\", \"width\": 150},\n",
    "                    {\"if\": dict(column_id=\"tsuyu_iri\"), \"backgroundColor\": \"#FBFFB9\"}\n",
    "                ],\n",
    "                # データ部分のスタイル\n",
    "                style_data_conditional = [\n",
    "                    {\"if\": dict(row_index=\"odd\"), \"backgroundColor\": \"#FBFFB9\"},\n",
    "                    # filter_query を利用する場合、条件を\"\"を囲って渡す\n",
    "                    {\"if\": dict(column_id=\"tsuyu_iri\", filter_query=\"{number} > 3\"), \"backgroundColor\": \"#41D3BD\"},\n",
    "                ]\n",
    "            )\n",
    "        ),\n",
    "    ])\n",
    "app.layout = server_layout\n",
    "\n",
    "if __name__ == \"__main__\":\n",
    "    app.run_server(debug=True)"
   ]
  },
  {
   "cell_type": "markdown",
   "metadata": {},
   "source": [
    "### <span style=\"color: skyblue; \">8.3.4 CSVファイルを用いたテーブル作成</span>\n",
    "\n",
    "- 北九州市の避難所のデータを用いてテーブルを作成"
   ]
  },
  {
   "cell_type": "code",
   "execution_count": 1,
   "metadata": {},
   "outputs": [
    {
     "name": "stdout",
     "output_type": "stream",
     "text": [
      "Dash app running on http://127.0.0.1:8050/\n"
     ]
    }
   ],
   "source": [
    "import pandas as pd\n",
    "from jupyter_dash import JupyterDash\n",
    "import dash\n",
    "from dash import html, dash_table\n",
    "\n",
    "df = pd.read_csv(\"../../support/ch08_dash_standard_components/data/kitakyushu_hinanjo.csv\", encoding=\"shift-jis\")\n",
    "\n",
    "app = JupyterDash(__name__)\n",
    "\n",
    "def server_layout():\n",
    "    return html.Div([\n",
    "        dash_table.DataTable(\n",
    "            page_size=1000,\n",
    "            virtualization=True,\n",
    "            columns=[dict(name=col, id=col) for col in df.columns],\n",
    "            data=df.to_dict(\"records\")\n",
    "        )\n",
    "    ])\n",
    "app.layout = server_layout\n",
    "\n",
    "\n",
    "if __name__ == \"__main__\":\n",
    "    app.run_server(debug=True)"
   ]
  },
  {
   "cell_type": "markdown",
   "metadata": {},
   "source": [
    "### <span style=\"color: skyblue; \">8.3.5 テーブルの表示幅の変更と固定表示</span>"
   ]
  },
  {
   "cell_type": "code",
   "execution_count": 1,
   "metadata": {},
   "outputs": [
    {
     "name": "stdout",
     "output_type": "stream",
     "text": [
      "Dash app running on http://127.0.0.1:8050/\n"
     ]
    }
   ],
   "source": [
    "import pandas as pd\n",
    "from jupyter_dash import JupyterDash\n",
    "import dash\n",
    "from dash import html, dash_table\n",
    "\n",
    "df = pd.read_csv(\n",
    "    \"../../support/ch08_dash_standard_components/data/kitakyushu_hinanjo.csv\",\n",
    "    encoding=\"shift-jis\"\n",
    ")\n",
    "\n",
    "app = JupyterDash(__name__)\n",
    "\n",
    "def server_layout():\n",
    "    return html.Div([\n",
    "        dash_table.DataTable(\n",
    "            columns=[dict(name=col, id=col) for col in df.columns],\n",
    "            data=df.to_dict(\"records\"),\n",
    "            page_size=1000,\n",
    "            virtualization=True,\n",
    "            style_cell=dict(\n",
    "                textAlign=\"center\",\n",
    "                maxWidth=\"80px\",\n",
    "                minWidth=\"80px\",\n",
    "                whiteSpace=\"normal\"\n",
    "            )\n",
    "        )\n",
    "    ])\n",
    "app.layout = server_layout\n",
    "\n",
    "\n",
    "if __name__ == \"__main__\":\n",
    "    app.run_server(debug=True)"
   ]
  },
  {
   "cell_type": "code",
   "execution_count": 1,
   "metadata": {},
   "outputs": [
    {
     "name": "stdout",
     "output_type": "stream",
     "text": [
      "Dash app running on http://127.0.0.1:8050/\n"
     ]
    }
   ],
   "source": [
    "# ヘッダの固定\n",
    "\n",
    "import pandas as pd\n",
    "from jupyter_dash import JupyterDash\n",
    "import dash\n",
    "from dash import html, dash_table\n",
    "\n",
    "df = pd.read_csv(\n",
    "    \"../../support/ch08_dash_standard_components/data/kitakyushu_hinanjo.csv\",\n",
    "    encoding=\"shift-jis\"\n",
    ")\n",
    "\n",
    "app = JupyterDash(__name__)\n",
    "\n",
    "def server_layout():\n",
    "    return html.Div([\n",
    "        dash_table.DataTable(\n",
    "            columns=[dict(name=col, id=col) for col in df.columns],\n",
    "            data=df.to_dict(\"records\"),\n",
    "            page_size=1000,\n",
    "            virtualization=True,\n",
    "            style_cell=dict(\n",
    "                textAlign=\"center\",\n",
    "                maxWidth=\"80px\",\n",
    "                minWidth=\"80px\",\n",
    "                whiteSpace=\"normal\"\n",
    "            ),\n",
    "            # 縦スクロール時にヘッダを固定\n",
    "            fixed_rows=dict(headers=True),\n",
    "            # テーブル全幅表示\n",
    "            style_table=dict(minWidth=\"100%\"),\n",
    "        )\n",
    "    ])\n",
    "app.layout = server_layout\n",
    "\n",
    "\n",
    "if __name__ == \"__main__\":\n",
    "    app.run_server(debug=True)"
   ]
  },
  {
   "cell_type": "markdown",
   "metadata": {},
   "source": [
    "### <span style=\"color: skyblue; \">8.3.6 テーブルの編集</span>\n"
   ]
  },
  {
   "cell_type": "code",
   "execution_count": 1,
   "metadata": {},
   "outputs": [
    {
     "name": "stdout",
     "output_type": "stream",
     "text": [
      "Dash app running on http://127.0.0.1:8050/\n"
     ]
    }
   ],
   "source": [
    "# ヘッダの固定\n",
    "\n",
    "import pandas as pd\n",
    "from jupyter_dash import JupyterDash\n",
    "import dash\n",
    "from dash import html, dash_table\n",
    "\n",
    "df = pd.read_csv(\n",
    "    \"../../support/ch08_dash_standard_components/data/kitakyushu_hinanjo.csv\",\n",
    "    encoding=\"shift-jis\"\n",
    ")\n",
    "\n",
    "app = JupyterDash(__name__)\n",
    "\n",
    "def server_layout():\n",
    "    return html.Div([\n",
    "        dash_table.DataTable(\n",
    "            columns=[dict(name=col, id=col) for col in df.columns],\n",
    "            data=df.to_dict(\"records\"),\n",
    "            virtualization=True,\n",
    "            style_cell=dict(\n",
    "                textAlign=\"center\",\n",
    "                maxWidth=\"80px\",\n",
    "                minWidth=\"80px\",\n",
    "                whiteSpace=\"normal\"\n",
    "            ),\n",
    "            # 縦スクロール時にヘッダを固定\n",
    "            fixed_rows=dict(headers=True),\n",
    "            # テーブル全幅表示\n",
    "            style_table=dict(minWidth=\"100%\", maxWidth=\"100%\"),\n",
    "            # 8.3.6 テーブルの編集\n",
    "            editable=True,           # セルの編集を可能にする\n",
    "            filter_action=\"native\",  # 列のフィルタリングを可能にする\n",
    "            row_deletable=True,      # 行の消去を可能にする\n",
    "            row_selectable=\"multi\",  # 複数料の選択を可能にする\n",
    "            sort_action=\"native\",    # 列のソートを可能にする\n",
    "            sort_mode=\"multi\",       # 複数列のソートを可能にする\n",
    "            page_size=10,            # 1ページの行数を10行にする\n",
    "            export_format=\"csv\",     # エクスポートの設定\n",
    "        )\n",
    "    ])\n",
    "app.layout = server_layout\n",
    "\n",
    "\n",
    "if __name__ == \"__main__\":\n",
    "    app.run_server(debug=True)"
   ]
  }
 ],
 "metadata": {
  "kernelspec": {
   "display_name": "Python 3.10.8 ('venv': venv)",
   "language": "python",
   "name": "python3"
  },
  "language_info": {
   "codemirror_mode": {
    "name": "ipython",
    "version": 3
   },
   "file_extension": ".py",
   "mimetype": "text/x-python",
   "name": "python",
   "nbconvert_exporter": "python",
   "pygments_lexer": "ipython3",
   "version": "3.10.8"
  },
  "orig_nbformat": 4,
  "vscode": {
   "interpreter": {
    "hash": "f00ef37bf0773123a82dc35b265f2423c39ad3a8f142d1f392434fb9c90d58fd"
   }
  }
 },
 "nbformat": 4,
 "nbformat_minor": 2
}
