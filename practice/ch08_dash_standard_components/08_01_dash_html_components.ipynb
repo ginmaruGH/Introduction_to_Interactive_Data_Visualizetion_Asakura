{
 "cells": [
  {
   "cell_type": "markdown",
   "metadata": {},
   "source": [
    "# <span style=\"color: skyblue; \">Ch08 Dash の標準コンポーネント</span>\n",
    "\n",
    "- Dash HTML Components\n",
    "- Dash Core Components\n",
    "- Dash DataTable"
   ]
  },
  {
   "cell_type": "markdown",
   "metadata": {},
   "source": [
    "## <span style=\"color: skyblue; \">8.1 Dash HTML Components</span>\n",
    "\n",
    "- [Dash HTML Components](https://dash.plot.ly/dash-html-components)\n",
    "- `dash.html`"
   ]
  },
  {
   "cell_type": "markdown",
   "metadata": {},
   "source": [
    "### <span style=\"color: skyblue; \">8.1.1 Dash HTML Components の概要</span>\n",
    "\n",
    "主要な HTML コンポーネント\n",
    "\n",
    "|クラス|概要|\n",
    "|:-|:-|\n",
    "|Div|コンテンツ分割|\n",
    "|H1~H6|見出し|\n",
    "|P|テキストの段落|\n",
    "|Link|リンク|\n",
    "|Button|ボタン|\n",
    "|Img|画像の埋め込み|"
   ]
  },
  {
   "cell_type": "markdown",
   "metadata": {},
   "source": [
    "### <span style=\"color: skyblue; \">8.1.2 文字列を用いたアプリケーション</span>\n",
    "\n",
    "コンポーネントは、引数 children （第1引数）に値を綿あすことで、アプリケーションに文字を表示する"
   ]
  },
  {
   "cell_type": "code",
   "execution_count": 1,
   "metadata": {},
   "outputs": [
    {
     "name": "stdout",
     "output_type": "stream",
     "text": [
      "Dash app running on http://127.0.0.1:8050/\n"
     ]
    }
   ],
   "source": [
    "# n_clicks 属性（コンポーネントのクリック回数を数える）と\n",
    "# hidden 属性（指定された要素を隠す）を用いて、\n",
    "# 文字列をクリックすると、対称のコンポーネントを隠す\n",
    "\n",
    "from jupyter_dash import JupyterDash\n",
    "from dash import html, dcc\n",
    "from dash.dependencies import Input, Output\n",
    "\n",
    "app = JupyterDash(__name__)\n",
    "\n",
    "def server_layout():\n",
    "    return html.Div([\n",
    "        html.H1(\"京都へようこそ！\"),\n",
    "        html.H2(\"おすすめ観光スポット\"),\n",
    "        html.P(\"- 清水寺\", n_clicks=0, id=\"one\"),\n",
    "        html.P(\"- 八坂迅社\", n_clicks=0, id=\"two\"),\n",
    "        html.P(\"- 銀閣寺\", n_clicks=0, id=\"three\"),\n",
    "        html.P(\"- 大文字\", n_clicks=0, id=\"four\"),\n",
    "        html.P(\"- 鴨川\", n_clicks=0, id=\"five\")\n",
    "    ], style=dict(textAlign=\"center\"))\n",
    "app.layout = server_layout\n",
    "\n",
    "# ID 名のリストからコールバックを作成\n",
    "for id_ in [\"one\", \"two\", \"three\", \"four\", \"five\"]:\n",
    "    @app.callback(\n",
    "        Output(component_id=id_, component_property=\"hidden\"),\n",
    "        Input(component_id=id_, component_property=\"n_clicks\")\n",
    "    )\n",
    "    def letter_disappear(n_clicks):\n",
    "        if n_clicks % 2 == 1:\n",
    "            return True\n",
    "\n",
    "\n",
    "if __name__ == \"__main__\":\n",
    "    app.run_server(debug=True)"
   ]
  },
  {
   "cell_type": "markdown",
   "metadata": {},
   "source": [
    "### <span style=\"color: skyblue; \">8.1.3 表示画像を切替えるアプリケーション</span>\n"
   ]
  },
  {
   "cell_type": "code",
   "execution_count": 1,
   "metadata": {},
   "outputs": [
    {
     "name": "stdout",
     "output_type": "stream",
     "text": [
      "Dash app running on http://127.0.0.1:8050/\n"
     ]
    }
   ],
   "source": [
    "# ボタンをクリックすると表示画像が切り替わる\n",
    "# ボタンがクリックされると画像が切り替わるコールバック\n",
    "# dash.callback_context\n",
    "# - コールバック関数の引数の ID や属性、値をもち、コールバック関数の中でのみ利用可能\n",
    "\n",
    "from datetime import datetime\n",
    "from jupyter_dash import JupyterDash\n",
    "import dash\n",
    "from dash import html\n",
    "from dash.dependencies import Input, Output\n",
    "\n",
    "app = JupyterDash(__name__)\n",
    "\n",
    "# Layout\n",
    "button_style = dict(height=100, width=100, borderRadius=\"50%\", fontSize=50)\n",
    "def server_layout():\n",
    "    return html.Div([\n",
    "        html.Div([\n",
    "            html.H1(\"ボタンをクリックすると画像が変わる。\"),\n",
    "            html.Img(id=\"bird-img\", style=dict(height=600))\n",
    "        ]),\n",
    "        html.Button(id=\"b-one\", children=\"1\", style=button_style),\n",
    "        html.Button(id=\"b-two\", children=\"2\", style=button_style),\n",
    "        html.Button(id=\"b-three\", children=\"3\", style=button_style),\n",
    "    ], style=dict(width=\"80%\", margin=\"auto\"))\n",
    "app.layout = server_layout\n",
    "\n",
    "\n",
    "# callback\n",
    "@app.callback(\n",
    "    Output(component_id=\"bird-img\", component_property=\"src\"),\n",
    "    Input(component_id=\"b-one\", component_property=\"n_clicks\"),\n",
    "    Input(component_id=\"b-two\", component_property=\"n_clicks\"),\n",
    "    Input(component_id=\"b-three\", component_property=\"n_clicks\")\n",
    ")\n",
    "def update_image(c_one, c_two, c_three):\n",
    "    # コールバックを呼び出したコンポーネントの ID 名を渡す\n",
    "    selected_id = dash.callback_context.triggered[0][\"prop_id\"].split(\".\")[0]\n",
    "    if selected_id == \"b-two\":\n",
    "        return \"./assets/bird2.png\"\n",
    "    elif selected_id == \"b-three\":\n",
    "        return \"./assets/bird3.png\"\n",
    "    else:\n",
    "        return \"./assets/bird1.png\"\n",
    "\n",
    "\n",
    "if __name__ == \"__main__\":\n",
    "    app.run_server(debug=True)"
   ]
  }
 ],
 "metadata": {
  "kernelspec": {
   "display_name": "Python 3.10.8 ('venv': venv)",
   "language": "python",
   "name": "python3"
  },
  "language_info": {
   "codemirror_mode": {
    "name": "ipython",
    "version": 3
   },
   "file_extension": ".py",
   "mimetype": "text/x-python",
   "name": "python",
   "nbconvert_exporter": "python",
   "pygments_lexer": "ipython3",
   "version": "3.10.8"
  },
  "orig_nbformat": 4,
  "vscode": {
   "interpreter": {
    "hash": "f00ef37bf0773123a82dc35b265f2423c39ad3a8f142d1f392434fb9c90d58fd"
   }
  }
 },
 "nbformat": 4,
 "nbformat_minor": 2
}
