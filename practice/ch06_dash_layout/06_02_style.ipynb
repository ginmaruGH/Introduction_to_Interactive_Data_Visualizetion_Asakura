{
 "cells": [
  {
   "cell_type": "markdown",
   "metadata": {},
   "source": [
    "# Ch06 Dash レイアウト\n",
    "\n",
    "- Dash HTML Components などを利用してアプリケーションのレイアウトを構築する。"
   ]
  },
  {
   "cell_type": "markdown",
   "metadata": {},
   "source": [
    "## <span style=\"color: skyblue; \">6.2 スタイル設定</span>\n",
    "\n",
    "- スタイル設定の目的\n",
    "  - コンポーネント自身の装飾\n",
    "  - コンポーネントの配置\n",
    "- スタイル設定の方法\n",
    "  - コンポーネントの引数 style にスタイルを渡す\n",
    "  - 外部 CSS を用いる"
   ]
  },
  {
   "cell_type": "markdown",
   "metadata": {},
   "source": [
    "### <span style=\"color: skyblue; \">6.2.1 コンポーネント自身のスタイル設定</span>\n",
    "\n",
    "- 段落を示す P クラスの引数 style を用いて、コンポーネント自身を装飾する\n",
    "\n",
    "コンポーネント自身のスタイル設定に用いる CSS プロパティ\n",
    "\n",
    "|key|description|\n",
    "|:-|:-|\n",
    "|fontSize|文字の大きさを px, rem, vm などで定義。数値を渡すと px として扱う。|\n",
    "|color|文字の色をカラーコード、色の名前、rgb などで定義。|\n",
    "|height|要素の高さを px, rem, vh などの単位で定義。数値を渡すと px として扱う。|\n",
    "|width|要素の幅を %, px, vw などの単位で定義。数値を渡すと px として扱う。|\n",
    "|backgroundColor|背景色を定義。|"
   ]
  },
  {
   "cell_type": "code",
   "execution_count": 1,
   "metadata": {},
   "outputs": [
    {
     "name": "stdout",
     "output_type": "stream",
     "text": [
      "Dash app running on http://127.0.0.1:8050/\n"
     ]
    }
   ],
   "source": [
    "# P コンポーネントの通常の状態を確認する\n",
    "\n",
    "from jupyter_dash import JupyterDash\n",
    "from dash import html\n",
    "\n",
    "app = JupyterDash(__name__)\n",
    "\n",
    "def server_layout():\n",
    "    return html.P(\"こんにちは、昨日は雨が降りました。\")\n",
    "\n",
    "app.layout = server_layout\n",
    "\n",
    "if __name__ == \"__main__\":\n",
    "    app.run_server(debug=True)"
   ]
  },
  {
   "cell_type": "code",
   "execution_count": 1,
   "metadata": {},
   "outputs": [
    {
     "name": "stdout",
     "output_type": "stream",
     "text": [
      "Dash app running on http://127.0.0.1:8050/\n"
     ]
    }
   ],
   "source": [
    "# 文字サイズ: 50px\n",
    "# 文字色: 白色\n",
    "# 背景色: 黒色 (#000000)\n",
    "\n",
    "from jupyter_dash import JupyterDash\n",
    "from dash import html\n",
    "\n",
    "app = JupyterDash(__name__)\n",
    "\n",
    "def server_layout():\n",
    "    return html.P(\n",
    "        \"こんにちは、昨日は雨が降りました。\",\n",
    "        style=dict(\n",
    "            fontSize=50,\n",
    "            color=\"white\",\n",
    "            backgroundColor=\"#000000\",\n",
    "        ),\n",
    "    )\n",
    "\n",
    "app.layout = server_layout\n",
    "\n",
    "if __name__ == \"__main__\":\n",
    "    app.run_server(debug=True)"
   ]
  },
  {
   "cell_type": "markdown",
   "metadata": {},
   "source": [
    "### <span style=\"color: skyblue; \">6.2.2 コンポーネントを配置する</span>"
   ]
  },
  {
   "cell_type": "code",
   "execution_count": 1,
   "metadata": {},
   "outputs": [
    {
     "name": "stdout",
     "output_type": "stream",
     "text": [
      "Dash app running on http://127.0.0.1:8050/\n"
     ]
    }
   ],
   "source": [
    "# 横幅を設定して、ウィンドウの中央に配置する\n",
    "\n",
    "from jupyter_dash import JupyterDash\n",
    "from dash import html\n",
    "\n",
    "app = JupyterDash(__name__)\n",
    "\n",
    "def server_layout():\n",
    "    return html.P(\n",
    "        \"こんにちは、昨日は雨が降りました。\",\n",
    "        style=dict(\n",
    "            fontSize=50,\n",
    "            color=\"white\",\n",
    "            backgroundColor=\"#000000\",\n",
    "            width=400,\n",
    "            margin=\"auto\",\n",
    "        ),\n",
    "    )\n",
    "\n",
    "app.layout = server_layout\n",
    "\n",
    "if __name__ == \"__main__\":\n",
    "    app.run_server(debug=True)"
   ]
  },
  {
   "cell_type": "code",
   "execution_count": 1,
   "metadata": {},
   "outputs": [
    {
     "name": "stdout",
     "output_type": "stream",
     "text": [
      "Dash app running on http://127.0.0.1:8050/\n"
     ]
    }
   ],
   "source": [
    "# コンポーネントを横並びにする\n",
    "\n",
    "from jupyter_dash import JupyterDash\n",
    "from dash import html\n",
    "\n",
    "app = JupyterDash(__name__)\n",
    "\n",
    "def server_layout():\n",
    "    return html.Div(\n",
    "        [\n",
    "            html.P(\n",
    "                \"こんにちは、昨日は雨が降りました。\",\n",
    "                style=dict(\n",
    "                    fontSize=50,\n",
    "                    color=\"white\",\n",
    "                    backgroundColor=\"#000000\",\n",
    "                    width=\"40%\",\n",
    "                    display=\"inline-block\",\n",
    "                ),\n",
    "            ),\n",
    "            html.P(\n",
    "                \"こんにちは、今日は晴れました。\",\n",
    "                style=dict(\n",
    "                    fontSize=50,\n",
    "                    color=\"white\",\n",
    "                    backgroundColor=\"red\",\n",
    "                    width=\"40%\",\n",
    "                    display=\"inline-block\",\n",
    "                    verticalAlign=\"top\",\n",
    "                ),\n",
    "            ),\n",
    "        ]\n",
    "    )\n",
    "\n",
    "app.layout = server_layout\n",
    "\n",
    "if __name__ == \"__main__\":\n",
    "    app.run_server(debug=True)"
   ]
  },
  {
   "cell_type": "markdown",
   "metadata": {},
   "source": [
    "### <span style=\"color: skyblue; \">6.2.3 外部のCSSを用いたスタイル設定</span>\n",
    "\n",
    "- 外部 CSS を用いたスタイル設定方法\n",
    "  - assets ディレクトリに格納した CSS ファイルを用いる\n",
    "  - 指定したリンク先のスタイルシートを用いる"
   ]
  },
  {
   "cell_type": "code",
   "execution_count": 1,
   "metadata": {},
   "outputs": [
    {
     "name": "stdout",
     "output_type": "stream",
     "text": [
      "Dash app running on http://127.0.0.1:8050/\n"
     ]
    }
   ],
   "source": [
    "# 緑色の円をブラウザ中央に描画する\n",
    "\n",
    "from jupyter_dash import JupyterDash\n",
    "from dash import html\n",
    "\n",
    "app = JupyterDash(__name__)\n",
    "\n",
    "def server_layout():\n",
    "    return html.Div(\n",
    "        html.Div(className=\"circle\")\n",
    "    )\n",
    "\n",
    "app.layout = server_layout\n",
    "\n",
    "if __name__ == \"__main__\":\n",
    "    app.run_server(debug=True)"
   ]
  },
  {
   "cell_type": "code",
   "execution_count": 1,
   "metadata": {},
   "outputs": [
    {
     "name": "stdout",
     "output_type": "stream",
     "text": [
      "Dash app running on http://127.0.0.1:8050/\n"
     ]
    }
   ],
   "source": [
    "# 3つのコンポーネントで構成されるレイアウト\n",
    "# スタイル設定なし\n",
    "\n",
    "from jupyter_dash import JupyterDash\n",
    "from dash import html, dcc\n",
    "\n",
    "app = JupyterDash(__name__)\n",
    "\n",
    "def server_layout():\n",
    "    return html.Div(\n",
    "        [\n",
    "            html.H1(\"スタイル\"),\n",
    "            dcc.Input(placeholder=\"スタイルシートテスト\"),\n",
    "            dcc.Graph(),\n",
    "        ],\n",
    "    )\n",
    "\n",
    "app.layout = server_layout\n",
    "\n",
    "if __name__ == \"__main__\":\n",
    "    app.run_server(debug=True)"
   ]
  },
  {
   "cell_type": "code",
   "execution_count": 1,
   "metadata": {},
   "outputs": [
    {
     "name": "stdout",
     "output_type": "stream",
     "text": [
      "Dash app running on http://127.0.0.1:8050/\n"
     ]
    }
   ],
   "source": [
    "# 外部スタイルシートを適用して、各コンポーネントを配置する\n",
    "# https://getbootstrap.jp/dock/4.2/layout/grid/\n",
    "\n",
    "from jupyter_dash import JupyterDash\n",
    "from dash import html, dcc\n",
    "\n",
    "external_stylesheets = [\"https://codepen.io/chriddyp/pen/bWLwgP.css\"]\n",
    "app = JupyterDash(__name__, external_stylesheets=external_stylesheets)\n",
    "\n",
    "def server_layout():\n",
    "    return html.Div(\n",
    "        [\n",
    "            html.H1(\"スタイル\", className=\"three columns\"),\n",
    "            dcc.Input(placeholder=\"スタイルシートテスト\", className=\"three columns\"),\n",
    "            dcc.Graph(className=\"six columns\"),\n",
    "        ],\n",
    "    )\n",
    "\n",
    "app.layout = server_layout\n",
    "\n",
    "if __name__ == \"__main__\":\n",
    "    app.run_server(debug=True)"
   ]
  },
  {
   "cell_type": "markdown",
   "metadata": {},
   "source": [
    "## <span style=\"color: skyblue; \">6.3 グラフの配置</span>\n",
    "\n",
    "- Plotly Express を用いる\n",
    "- plotly.py を用いる"
   ]
  },
  {
   "cell_type": "markdown",
   "metadata": {},
   "source": [
    "### <span style=\"color: skyblue; \">6.3.1 Plotly Express を用いたグラフの配置</span>\n",
    "\n",
    "- gapminder データセットの2007年分のデータの散布図\n",
    "  - X 軸（x）: 1人あたり GDP\n",
    "  - Y 軸（y）: 人口\n",
    "  - マーカーの大きさ（size）: 平均寿命\n",
    "  - マーカーの色（color）: 大陸名\n",
    "  - ホバーツールの名前（hover_name）: 国名"
   ]
  },
  {
   "cell_type": "code",
   "execution_count": 1,
   "metadata": {},
   "outputs": [
    {
     "name": "stdout",
     "output_type": "stream",
     "text": [
      "Dash app running on http://127.0.0.1:8050/\n"
     ]
    }
   ],
   "source": [
    "from jupyter_dash import JupyterDash\n",
    "from dash import dcc\n",
    "import plotly.express as px\n",
    "\n",
    "gapminder = px.data.gapminder()\n",
    "gapminder_2007 = gapminder.loc[gapminder[\"year\"] == 2007]\n",
    "\n",
    "app = JupyterDash(__name__)\n",
    "\n",
    "def server_layout():\n",
    "    return dcc.Graph(\n",
    "        figure=px.scatter(\n",
    "            gapminder_2007,\n",
    "            x=\"gdpPercap\",\n",
    "            y=\"pop\",\n",
    "            size=\"lifeExp\",\n",
    "            color=\"continent\",\n",
    "            hover_name=\"country\",\n",
    "            log_x=True,\n",
    "            log_y=True,\n",
    "            title=\"Gapminder\"\n",
    "        )\n",
    "    )\n",
    "\n",
    "app.layout = server_layout\n",
    "\n",
    "if __name__ == \"__main__\":\n",
    "    app.run_server(debug=True)"
   ]
  },
  {
   "cell_type": "markdown",
   "metadata": {},
   "source": [
    "### <span style=\"color: skyblue; \">6.3.2 plotly.py を用いたグラフの配置</span>\n"
   ]
  },
  {
   "cell_type": "code",
   "execution_count": 3,
   "metadata": {},
   "outputs": [
    {
     "name": "stdout",
     "output_type": "stream",
     "text": [
      "Dash app running on http://127.0.0.1:8050/\n"
     ]
    }
   ],
   "source": [
    "from jupyter_dash import JupyterDash\n",
    "from dash import dcc\n",
    "import plotly.express as px\n",
    "import plotly.graph_objects as go\n",
    "\n",
    "gapminder = px.data.gapminder()\n",
    "gapminder_2007 = gapminder.loc[gapminder[\"year\"] == 2007]\n",
    "\n",
    "# figure の作成\n",
    "fig = go.Figure()\n",
    "for c in gapminder_2007.continent.unique():\n",
    "    fig.add_trace(\n",
    "        go.Scatter(\n",
    "            x=gapminder_2007.loc[gapminder_2007[\"continent\"] == c, \"gdpPercap\"],\n",
    "            y=gapminder_2007.loc[gapminder_2007[\"continent\"] == c, \"pop\"],\n",
    "            name=c,\n",
    "            mode=\"markers\",\n",
    "            marker=dict(\n",
    "                size=gapminder_2007.loc[gapminder_2007[\"continent\"] == c, \"lifeExp\"] / 2  # type: ignore\n",
    "            ),\n",
    "            text=gapminder_2007.loc[gapminder_2007[\"continent\"] == c, \"continent\"],\n",
    "        )\n",
    "    )\n",
    "fig.update_layout(\n",
    "    xaxis=dict(type=\"log\", title=\"gapPercap\"),\n",
    "    yaxis=dict(type=\"log\", title=\"pop\"),\n",
    "    title=\"Gapminder\",\n",
    ")\n",
    "\n",
    "app = JupyterDash(__name__)\n",
    "\n",
    "def server_layout():\n",
    "    return dcc.Graph(\n",
    "        figure=fig\n",
    "    )\n",
    "\n",
    "app.layout = server_layout\n",
    "\n",
    "if __name__ == \"__main__\":\n",
    "    app.run_server(debug=True)"
   ]
  },
  {
   "cell_type": "markdown",
   "metadata": {},
   "source": [
    "## <span style=\"color: skyblue; \">6.4 複数コンポーネントの配置</span>\n",
    "\n",
    "- 複数のコンポーネントを配置する\n",
    "  - Div コンポーネントの引数 style を用いてコンポーネントを配置する\n",
    "  - Div コンポーネントを外部 CSS を用いて配置する\n",
    "  - Div コンポーネントにコンポーネントを渡して配置する\n"
   ]
  },
  {
   "cell_type": "markdown",
   "metadata": {},
   "source": [
    "### <span style=\"color: skyblue; \">6.4.1 Div コンポーネントの引数 style を用いた配置</span>\n"
   ]
  },
  {
   "cell_type": "code",
   "execution_count": 2,
   "metadata": {},
   "outputs": [
    {
     "name": "stdout",
     "output_type": "stream",
     "text": [
      "Dash app running on http://127.0.0.1:8050/\n"
     ]
    }
   ],
   "source": [
    "from jupyter_dash import JupyterDash\n",
    "from dash import html, dcc\n",
    "\n",
    "app = JupyterDash(__name__)\n",
    "\n",
    "def server_layout():\n",
    "    return html.Div(\n",
    "        style=dict(\n",
    "            width=\"500px\",\n",
    "            height=\"250px\",\n",
    "            backgroundColor=\"lime\",\n",
    "            margin=\"50px auto 50px\",\n",
    "        )\n",
    "    )\n",
    "\n",
    "app.layout = server_layout\n",
    "\n",
    "if __name__ == \"__main__\":\n",
    "    app.run_server(debug=True)"
   ]
  },
  {
   "cell_type": "code",
   "execution_count": 1,
   "metadata": {},
   "outputs": [
    {
     "name": "stdout",
     "output_type": "stream",
     "text": [
      "Dash app running on http://127.0.0.1:8050/\n"
     ]
    }
   ],
   "source": [
    "from jupyter_dash import JupyterDash\n",
    "from dash import html, dcc\n",
    "\n",
    "div_style1 = dict(\n",
    "    width=\"40%\",\n",
    "    height=\"250px\",\n",
    "    backgroundColor=\"lime\",\n",
    "    margin=\"5%\",\n",
    "    display=\"inline-block\",\n",
    ")\n",
    "\n",
    "div_style2 = dict(\n",
    "    width=\"29%\",\n",
    "    height=\"250px\",\n",
    "    backgroundColor=\"skyblue\",\n",
    "    margin=\"2%\",\n",
    "    display=\"inline-block\",\n",
    ")\n",
    "\n",
    "app = JupyterDash(__name__)\n",
    "\n",
    "def server_layout():\n",
    "    return html.Div(\n",
    "        [\n",
    "            html.Div(\n",
    "                [\n",
    "                    html.Div(style=div_style1),\n",
    "                    html.Div(style=div_style1)\n",
    "                ],\n",
    "                id=\"first_leader\",\n",
    "            ),\n",
    "            html.Div(\n",
    "                [\n",
    "                    html.Div(style=div_style2),\n",
    "                    html.Div(style=div_style2),\n",
    "                    html.Div(style=div_style2),\n",
    "                ],\n",
    "                id=\"second_leader\",\n",
    "            ),\n",
    "        ],\n",
    "        id=\"leader\",\n",
    "    )\n",
    "\n",
    "app.layout = server_layout\n",
    "\n",
    "if __name__ == \"__main__\":\n",
    "    app.run_server(debug=True)"
   ]
  },
  {
   "cell_type": "markdown",
   "metadata": {},
   "source": [
    "### <span style=\"color: skyblue; \">6.4.2 外部 CSS を用いたスタイル設定</span>\n"
   ]
  },
  {
   "cell_type": "code",
   "execution_count": 1,
   "metadata": {},
   "outputs": [
    {
     "name": "stdout",
     "output_type": "stream",
     "text": [
      "Dash app running on http://127.0.0.1:8050/\n"
     ]
    }
   ],
   "source": [
    "from jupyter_dash import JupyterDash\n",
    "from dash import html, dcc\n",
    "\n",
    "external_stylesheets = [\"./assets/6_4_2.css\"]\n",
    "\n",
    "app = JupyterDash(__name__, external_stylesheets=external_stylesheets)\n",
    "\n",
    "def server_layout():\n",
    "    return html.Div(\n",
    "        [\n",
    "            html.H1(\"5つの四角形を並べたアプリケーション\"),\n",
    "            html.Div(\n",
    "                [\n",
    "                    html.Div(className=\"roundsqlime columns\"),\n",
    "                    html.Div(className=\"roundsqlime columns\")\n",
    "                ],\n",
    "            ),\n",
    "            html.Div(\n",
    "                [\n",
    "                    html.Div(className=\"roundsqblue columns\"),\n",
    "                    html.Div(className=\"roundsqblue columns\"),\n",
    "                    html.Div(className=\"roundsqblue columns\"),\n",
    "                ],\n",
    "            ),\n",
    "        ],\n",
    "    )\n",
    "\n",
    "app.layout = server_layout\n",
    "\n",
    "if __name__ == \"__main__\":\n",
    "    app.run_server(debug=True)"
   ]
  },
  {
   "cell_type": "markdown",
   "metadata": {},
   "source": [
    "### <span style=\"color: skyblue; \">6.4.3 スタイルシートをカスタマイズしたスタイル設定</span>\n"
   ]
  },
  {
   "cell_type": "code",
   "execution_count": 1,
   "metadata": {},
   "outputs": [
    {
     "name": "stdout",
     "output_type": "stream",
     "text": [
      "Dash app running on http://127.0.0.1:8050/\n"
     ]
    }
   ],
   "source": [
    "from jupyter_dash import JupyterDash\n",
    "from dash import html, dcc\n",
    "\n",
    "# 1段目用 CSS\n",
    "div_style1 = dict(\n",
    "    height=\"250px\",\n",
    "    margin=\"5%\",\n",
    "    backgroundColor=\"lime\"\n",
    ")\n",
    "# 2段目用 CSS\n",
    "div_style2 = dict(\n",
    "    height=\"250px\",\n",
    "    backgroundColor=\"skyblue\"\n",
    ")\n",
    "\n",
    "# スタイルシートの読み込み\n",
    "external_stylesheets = [\"https://codepen.io/chriddyp/pen/bWLwgP.css\"]\n",
    "app = JupyterDash(__name__, external_stylesheets=external_stylesheets)\n",
    "\n",
    "def server_layout():\n",
    "    return html.Div(\n",
    "        [\n",
    "            html.H1(\"5つの四角形を並べたアプリケーション\"),\n",
    "            html.Div(\n",
    "                [\n",
    "                    html.Div(style=div_style1, className=\"five columns\"),\n",
    "                    html.Div(style=div_style1, className=\"five columns\")\n",
    "                ],\n",
    "            ),\n",
    "            html.Div(\n",
    "                [\n",
    "                    html.Div(style=div_style2, className=\"roundsqblue columns\"),\n",
    "                    html.Div(style=div_style2, className=\"roundsqblue columns\"),\n",
    "                    html.Div(style=div_style2, className=\"roundsqblue columns\"),\n",
    "                ],\n",
    "            ),\n",
    "        ],\n",
    "    )\n",
    "\n",
    "app.layout = server_layout\n",
    "\n",
    "if __name__ == \"__main__\":\n",
    "    app.run_server(debug=True)"
   ]
  },
  {
   "cell_type": "markdown",
   "metadata": {},
   "source": [
    "### <span style=\"color: skyblue; \">6.4.4 複数のコンポーネントを組み合わせた配置</span>\n"
   ]
  },
  {
   "cell_type": "code",
   "execution_count": 1,
   "metadata": {},
   "outputs": [
    {
     "name": "stdout",
     "output_type": "stream",
     "text": [
      "Dash app running on http://127.0.0.1:8050/\n"
     ]
    }
   ],
   "source": [
    "from jupyter_dash import JupyterDash\n",
    "from dash import html, dcc\n",
    "import plotly.express as px\n",
    "\n",
    "# スタイル\n",
    "div_style1 = dict(\n",
    "    width=\"40%\",\n",
    "    margin=\"5%\",\n",
    "    verticalAlign=\"top\",\n",
    "    textAlign=\"center\",\n",
    "    display=\"inline_block\",\n",
    ")\n",
    "# 2段目用 CSS\n",
    "div_style2 = dict(\n",
    "    width=\"49%\",\n",
    "    margin=\"2%\",\n",
    "    verticalAlign=\"top\",\n",
    "    display=\"inline-block\",\n",
    ")\n",
    "\n",
    "# スタイルシートの読み込み\n",
    "external_stylesheets = [\"https://codepen.io/chriddyp/pen/bWLwgP.css\"]\n",
    "app = JupyterDash(__name__, external_stylesheets=external_stylesheets)\n",
    "\n",
    "# レイアウトの作成\n",
    "\n",
    "# 左上レイアウト（H1, Markdown）\n",
    "top_left = html.Div(\n",
    "    [\n",
    "        html.H1(\"Dashアプリケーション\"),\n",
    "        dcc.Markdown(\n",
    "            \"\"\"\n",
    "            5つのDivクラスの領域に、複数のコンポーネントを並べる。\n",
    "            \n",
    "            - 左上はH1、Markdown、右上はGraph\n",
    "            - 左下はH3、Dropdown、Slider、真ん中下はH3、TextArea、右下はH3、Checklist、RadioItems\n",
    "            \n",
    "            上記のコンポーネントをDivのChildrenに渡す\n",
    "            \"\"\",\n",
    "            style=dict(\n",
    "                fontSize=\"20px\",\n",
    "                textAlign=\"left\",\n",
    "                backgroundColor=\"lightgrey\",\n",
    "                padding=\"3%\",\n",
    "            ),\n",
    "        ),\n",
    "    ],\n",
    "    id=\"top-left\",\n",
    "    style=div_style1\n",
    ")\n",
    "# 右上用グラフ\n",
    "fig = px.line(\n",
    "    x=[1, 2, 3, 4, 5],\n",
    "    y=[[3, 2, 4, 1, 5], [2, 4, 3, 5, 3]],\n",
    "    title=\"Dash Graph\",\n",
    ")\n",
    "fig.data[0].name = \"東京\"  # type: ignore\n",
    "fig.data[1].name = \"大阪\"  # type: ignore\n",
    "# 右上レイアウト（Graph）\n",
    "top_right = html.Div(\n",
    "    [\n",
    "        dcc.Graph(\n",
    "            figure=fig\n",
    "        )\n",
    "    ],\n",
    "    id=\"top-right\",\n",
    "    style=div_style1\n",
    ")\n",
    "# 左下レイアウト（H3, Dropdown, Slider）\n",
    "bottom_left = html.Div(\n",
    "    [\n",
    "        html.H3(\"ドロップダウン\"),\n",
    "        dcc.Dropdown(\n",
    "            options=[\n",
    "                dict(label=\"東京\", value=\"東京\"),\n",
    "                dict(label=\"大阪\", value=\"大阪\")\n",
    "            ],\n",
    "            value=\"大阪\",\n",
    "        ),\n",
    "        html.H3(\"スライダ\"),\n",
    "        dcc.Slider(\n",
    "            min=-10,\n",
    "            max=10,\n",
    "            marks=dict((i, f\"label{i}\") for i in range(-10, 11, 5))\n",
    "        ),\n",
    "    ],\n",
    "    id=\"bottom-left\",\n",
    "    style=div_style2,\n",
    ")\n",
    "# 中央下レイアウト（H3, Textarea）\n",
    "bottom_mid = html.Div(\n",
    "    [\n",
    "        html.H3(\"テキストエリア入力\"),\n",
    "        html.Textarea(style=dict(height=\"200px\", width=\"60%\")),\n",
    "        html.Button(\"ボタン\"),\n",
    "    ],\n",
    "    id=\"bottom-mid\",\n",
    "    style=div_style2\n",
    ")\n",
    "# 右下レイアウト（H3, Checklist, RadioItems）\n",
    "bottom_right = html.Div(\n",
    "    [\n",
    "        html.H3(\"選択肢\", style=dict(textAlign=\"center\")),\n",
    "        # 2つのコンポーネントはスタイルシートを用いて横並びにする\n",
    "        dcc.Checklist(\n",
    "            options=[\n",
    "                dict(label=\"北海道\", value=\"北海道\"),\n",
    "                dict(label=\"秋田\", value=\"秋田\"),\n",
    "                dict(label=\"新潟\", value=\"新潟\"),\n",
    "            ],\n",
    "            value=[\"北海道\", \"新潟\"],\n",
    "            className=\"five columns\",\n",
    "        ),\n",
    "        dcc.RadioItems(\n",
    "            options=[\n",
    "                dict(label=\"福岡\", value=\"福岡\"),\n",
    "                dict(label=\"宮崎\", value=\"宮崎\"),\n",
    "                dict(label=\"鹿児島\", value=\"鹿児島\"),\n",
    "            ],\n",
    "            value=\"鹿児島\",\n",
    "            className=\"five columns\",\n",
    "        ),\n",
    "    ],\n",
    "    id=\"bottom-right\",\n",
    "    style=div_style2,\n",
    ")\n",
    "# レイアウトの関数化\n",
    "def server_layout():\n",
    "    return html.Div(\n",
    "        children=[\n",
    "            html.Div([top_left, top_right], style=dict(display=\"flex\")),\n",
    "            html.Div([bottom_left, bottom_mid, bottom_right], style=dict(display=\"flex\")),\n",
    "        ]\n",
    "    )\n",
    "app.layout = server_layout\n",
    "\n",
    "# ローカルサーバーに表示\n",
    "if __name__ == \"__main__\":\n",
    "    app.run_server(debug=True)"
   ]
  }
 ],
 "metadata": {
  "kernelspec": {
   "display_name": "Python 3.10.8 ('venv': venv)",
   "language": "python",
   "name": "python3"
  },
  "language_info": {
   "codemirror_mode": {
    "name": "ipython",
    "version": 3
   },
   "file_extension": ".py",
   "mimetype": "text/x-python",
   "name": "python",
   "nbconvert_exporter": "python",
   "pygments_lexer": "ipython3",
   "version": "3.10.8"
  },
  "orig_nbformat": 4,
  "vscode": {
   "interpreter": {
    "hash": "f00ef37bf0773123a82dc35b265f2423c39ad3a8f142d1f392434fb9c90d58fd"
   }
  }
 },
 "nbformat": 4,
 "nbformat_minor": 2
}
