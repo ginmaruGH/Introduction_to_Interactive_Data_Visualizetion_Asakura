{
 "cells": [
  {
   "cell_type": "markdown",
   "metadata": {},
   "source": [
    "# Ch06 Dash レイアウト\n",
    "\n",
    "- Dash HTML Components などを利用してアプリケーションのレイアウトを構築する。"
   ]
  },
  {
   "cell_type": "markdown",
   "metadata": {},
   "source": [
    "## 6.1 コンポーネント"
   ]
  },
  {
   "cell_type": "markdown",
   "metadata": {},
   "source": [
    "### 6.1.1 コンポーネントの作成"
   ]
  },
  {
   "cell_type": "code",
   "execution_count": 1,
   "metadata": {},
   "outputs": [
    {
     "name": "stdout",
     "output_type": "stream",
     "text": [
      "Dash app running on http://127.0.0.1:8050/\n"
     ]
    }
   ],
   "source": [
    "# デフォルトの状態の Dropdown コンポーネントを表示する\n",
    "\n",
    "from jupyter_dash import JupyterDash\n",
    "from dash import dcc\n",
    "\n",
    "app = JupyterDash(__name__)\n",
    "\n",
    "def server_layout():\n",
    "    return dcc.Dropdown()\n",
    "\n",
    "app.layout = server_layout\n",
    "\n",
    "if __name__ == \"__main__\":\n",
    "    app.run_server(debug=True)"
   ]
  },
  {
   "cell_type": "code",
   "execution_count": 1,
   "metadata": {},
   "outputs": [
    {
     "name": "stdout",
     "output_type": "stream",
     "text": [
      "Dash app running on http://127.0.0.1:8050/\n"
     ]
    }
   ],
   "source": [
    "# Dropdown コンポーネントに属性値を渡して、\n",
    "# 選択肢をもつドロップダウンとして動作させる\n",
    "\n",
    "from jupyter_dash import JupyterDash\n",
    "from dash import dcc\n",
    "\n",
    "app = JupyterDash(__name__)\n",
    "\n",
    "def server_layout():\n",
    "    return dcc.Dropdown(\n",
    "        options=[\n",
    "            dict(label=\"赤\", value=\"red\"),\n",
    "            dict(label=\"黄\", value=\"yellow\"),\n",
    "            dict(label=\"青\", value=\"blue\"),\n",
    "        ],\n",
    "        value=\"red\",\n",
    "        clearable=False,  # 選択を削除できないように設定\n",
    "        style=dict(textAlign=\"center\"),\n",
    "    )\n",
    "    \n",
    "app.layout = server_layout\n",
    "\n",
    "if __name__ == \"__main__\":\n",
    "    app.run_server(debug=True)"
   ]
  },
  {
   "cell_type": "markdown",
   "metadata": {},
   "source": [
    "### 6.1.2 コンポーネントの主要な属性\n",
    "\n",
    "|attribute name（属性名）|roles（役割）|\n",
    "|:-|:-|\n",
    "|children|見出しの文字、Div クラスでリストに格納した複数のコンポーネントなど子要素を設定|\n",
    "|id|コンポーネントの ID 名の設定、コールバックで利用|\n",
    "|className|クラス名、HTML の class グローバル属性の役割（Python のくらすとは異なる）|\n",
    "|options|Dropdown クラスなどの選択肢の設定|\n",
    "|style|スタイル設定（辞書に CSS を格納して渡す）|\n",
    "|value|コンポーネントの値|\n",
    "\n",
    "\n",
    "\n",
    "```python\n",
    "from dash import html, dcc\n",
    "from dash_daq as daq\n",
    "\n",
    "help(html.Div)\n",
    "help(dcc.Graph)\n",
    "help(daq.ColorPicker)\n",
    "```"
   ]
  },
  {
   "cell_type": "markdown",
   "metadata": {},
   "source": [
    "#### 各クラスの役割や属性の調べ方"
   ]
  },
  {
   "cell_type": "code",
   "execution_count": 7,
   "metadata": {},
   "outputs": [
    {
     "name": "stdout",
     "output_type": "stream",
     "text": [
      "Help on class ColorPicker in module builtins:\n",
      "\n",
      "class ColorPicker(dash.development.base_component.Component)\n",
      " |  ColorPicker(id=undefined, value=undefined, disabled=undefined, size=undefined, theme=undefined, label=undefined, labelPosition=undefined, className=undefined, style=undefined, persistence=undefined, persisted_props=undefined, persistence_type=undefined, **kwargs)\n",
      " |  \n",
      " |  A ColorPicker component.\n",
      " |  A color picker.\n",
      " |  \n",
      " |  Keyword arguments:\n",
      " |  \n",
      " |  - id (string; optional):\n",
      " |      The ID used to identify the color picker in Dash callbacks.\n",
      " |  \n",
      " |  - className (string; optional):\n",
      " |      Class to apply to the root component element.\n",
      " |  \n",
      " |  - disabled (boolean; optional):\n",
      " |      If True, color cannot be picked.\n",
      " |  \n",
      " |  - label (dict; optional):\n",
      " |      Description to be displayed alongside the control. To control\n",
      " |      styling, pass an object with label and style properties.\n",
      " |  \n",
      " |      `label` is a string | dict with keys:\n",
      " |  \n",
      " |      - label (string; optional)\n",
      " |  \n",
      " |      - style (dict; optional)\n",
      " |  \n",
      " |  - labelPosition (a value equal to: 'top', 'bottom'; default 'top'):\n",
      " |      Where the indicator label is positioned.\n",
      " |  \n",
      " |  - persisted_props (list of a value equal to: 'value's; default ['value']):\n",
      " |      Properties whose user interactions will persist after refreshing\n",
      " |      the component or the page. Since only `value` is allowed this prop\n",
      " |      can normally be ignored.\n",
      " |  \n",
      " |  - persistence (boolean | string | number; optional):\n",
      " |      Used to allow user interactions in this component to be persisted\n",
      " |      when the component - or the page - is refreshed. If `persisted` is\n",
      " |      truthy and hasn't changed from its previous value, a `value` that\n",
      " |      the user has changed while using the app will keep that change, as\n",
      " |      long as the new `value` also matches what was given originally.\n",
      " |      Used in conjunction with `persistence_type`.\n",
      " |  \n",
      " |  - persistence_type (a value equal to: 'local', 'session', 'memory'; default 'local'):\n",
      " |      Where persisted user changes will be stored: memory: only kept in\n",
      " |      memory, reset on page refresh. local: window.localStorage, data is\n",
      " |      kept after the browser quit. session: window.sessionStorage, data\n",
      " |      is cleared once the browser quit.\n",
      " |  \n",
      " |  - size (number; default 225):\n",
      " |      Size (width) of the component in pixels.\n",
      " |  \n",
      " |  - style (dict; optional):\n",
      " |      Style to apply to the root component element.\n",
      " |  \n",
      " |  - theme (dict; default light):\n",
      " |      Theme configuration to be set by a ThemeProvider.\n",
      " |  \n",
      " |  - value (dict; optional):\n",
      " |      Color value of the picker.\n",
      " |  \n",
      " |      `value` is a dict with keys:\n",
      " |  \n",
      " |      - hex (string; optional):\n",
      " |          Hex string.\n",
      " |  \n",
      " |      - rbg (dict; optional):\n",
      " |          RGB/RGBA object.\n",
      " |  \n",
      " |          `rbg` is a dict with keys:\n",
      " |  \n",
      " |          - a (number; optional)\n",
      " |  \n",
      " |          - b (number; optional)\n",
      " |  \n",
      " |          - g (number; optional)\n",
      " |  \n",
      " |          - r (number; optional)\n",
      " |  \n",
      " |  Method resolution order:\n",
      " |      ColorPicker\n",
      " |      dash.development.base_component.Component\n",
      " |      object\n",
      " |  \n",
      " |  Methods defined here:\n",
      " |  \n",
      " |  __init__ = wrapper(self, id=undefined, value=undefined, disabled=undefined, size=undefined, theme=undefined, label=undefined, labelPosition=undefined, className=undefined, style=undefined, persistence=undefined, persisted_props=undefined, persistence_type=undefined, **kwargs)\n",
      " |  \n",
      " |  ----------------------------------------------------------------------\n",
      " |  Data and other attributes defined here:\n",
      " |  \n",
      " |  __abstractmethods__ = frozenset()\n",
      " |  \n",
      " |  ----------------------------------------------------------------------\n",
      " |  Methods inherited from dash.development.base_component.Component:\n",
      " |  \n",
      " |  __delitem__(self, id)\n",
      " |      Delete items by ID in the tree of children.\n",
      " |  \n",
      " |  __getitem__(self, id)\n",
      " |      Recursively find the element with the given ID through the tree of\n",
      " |      children.\n",
      " |  \n",
      " |  __iter__(self)\n",
      " |      Yield IDs in the tree of children.\n",
      " |  \n",
      " |  __len__(self)\n",
      " |      Return the number of items in the tree.\n",
      " |  \n",
      " |  __repr__(self)\n",
      " |      Return repr(self).\n",
      " |  \n",
      " |  __setitem__(self, id, item)\n",
      " |      Set an element by its ID.\n",
      " |  \n",
      " |  to_plotly_json(self)\n",
      " |  \n",
      " |  ----------------------------------------------------------------------\n",
      " |  Data descriptors inherited from dash.development.base_component.Component:\n",
      " |  \n",
      " |  __dict__\n",
      " |      dictionary for instance variables (if defined)\n",
      " |  \n",
      " |  __weakref__\n",
      " |      list of weak references to the object (if defined)\n",
      " |  \n",
      " |  ----------------------------------------------------------------------\n",
      " |  Data and other attributes inherited from dash.development.base_component.Component:\n",
      " |  \n",
      " |  REQUIRED = required\n",
      " |  \n",
      " |  UNDEFINED = undefined\n",
      "\n"
     ]
    }
   ],
   "source": [
    "from dash import html, dcc\n",
    "import dash_daq as daq\n",
    "\n",
    "# help(html.Div)\n",
    "# help(dcc.Graph)\n",
    "help(daq.ColorPicker)  # type: ignore"
   ]
  }
 ],
 "metadata": {
  "kernelspec": {
   "display_name": "Python 3.10.8 ('venv': venv)",
   "language": "python",
   "name": "python3"
  },
  "language_info": {
   "codemirror_mode": {
    "name": "ipython",
    "version": 3
   },
   "file_extension": ".py",
   "mimetype": "text/x-python",
   "name": "python",
   "nbconvert_exporter": "python",
   "pygments_lexer": "ipython3",
   "version": "3.10.8"
  },
  "orig_nbformat": 4,
  "vscode": {
   "interpreter": {
    "hash": "f00ef37bf0773123a82dc35b265f2423c39ad3a8f142d1f392434fb9c90d58fd"
   }
  }
 },
 "nbformat": 4,
 "nbformat_minor": 2
}
