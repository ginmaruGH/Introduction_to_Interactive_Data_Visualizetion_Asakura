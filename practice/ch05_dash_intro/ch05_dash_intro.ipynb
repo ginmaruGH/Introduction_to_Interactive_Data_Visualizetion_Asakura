{
 "cells": [
  {
   "cell_type": "markdown",
   "metadata": {},
   "source": [
    "# Ch05 Dash 入門"
   ]
  },
  {
   "cell_type": "markdown",
   "metadata": {},
   "source": [
    "## 5.1 Dash とは\n",
    "\n",
    "- Dash\n",
    "  - Pythonユーザーがデータ分析やレポート作成、モデリングなどを行うアプリケーション構築ができる。Web フレームワーク。\n",
    "  - 複雑に動作するユーザーインターフェース（UI）をPythonのコードで簡潔に実装できる\n",
    "  - コールバックを用いて用意に UI を更新できる\n",
    "  - グラフを plotly.py や Plotly Express を用いて作成できる"
   ]
  },
  {
   "cell_type": "markdown",
   "metadata": {},
   "source": [
    "## 5.2 Dash の全体像\n",
    "\n",
    "アプリケーションは、Dash クラスに構成要素を与えて作成する\n",
    "\n",
    "- Dash アプリケーションは、3 要素で構成される\n",
    "  - コンポーネント: UIの部品\n",
    "  - レイアウト: コンポーネントを組み合わせ、アプリケーションの静的な見た目を定義する\n",
    "  - コールバック: アプリケーションの動的な性質を定義する\n",
    "\n",
    "&nbsp;\n",
    "\n",
    "- コンポーネント\n",
    "  - コンポーネントを作成するクラスの引数に値を渡して作成する\n",
    "  - style 属性: 外見などのスタイルの設定\n",
    "- レイアウト\n",
    "  - レイアウトの最小構成単位は、`Dash HTML Components` パッケージなどのクラスから生成されるコンポーネント\n",
    "  - コンポーネントを組み合わせて作成する\n",
    "- コールバック\n",
    "  - コンポーネントの属性の変化などを「トリガーに呼び出されるコールバック関数」を定義することで、\n",
    "  - アプリケーションにインタラクティブな動きを与える\n",
    "\n",
    "&nbsp;\n",
    "\n",
    "Graph コンポーネントに plotly.py を用いて作成したグラフを渡すことで、レイアウトにグラフを加える。"
   ]
  },
  {
   "cell_type": "markdown",
   "metadata": {},
   "source": [
    "### Jupyter Notebook で Dash を使う設定\n",
    "\n",
    "- [【保存版】Python Dash パーフェクトガイド](https://qiita.com/Yusuke_Pipipi/items/b74f269d112f180d2131)\n",
    "- [https://github.com/plotly/jupyter-dash/blob/master/notebooks/getting_started.ipynb](https://github.com/plotly/jupyter-dash/blob/master/notebooks/getting_started.ipynb)\n",
    "\n",
    "---\n",
    "\n",
    "- `dash.Dash` を `jupyter_dash.JupyterDash` に変更する\n",
    "\n",
    "```python\n",
    "from jupyter_dash import JupyterDash\n",
    "from dash import Dash, html, dcc\n",
    "import pandas as pd\n",
    "from IPython.display import display\n",
    "\n",
    "external_stylesheets = ['https://codepen.io/chriddyp/pen/bWLwgP.css']\n",
    "app = JupyterDash(__name__, external_stylesheets=external_stylesheets)\n",
    "```\n",
    "---\n",
    "\n",
    "- すべてのユーザーのアクセスを許可(PortNo = 5000)\n",
    "- Debug時リローダーを有効にする\n",
    "  - Pythonファイルを更新するたびに、Webアプリを自動再読み込みしてくれる\n",
    "\n",
    "```python\n",
    "# bindingを0.0.0.0にすることで全てのユーザーからのアクセスを許可\n",
    "#app.run_server(host='192.168.1.10') # これだと192.168.1.10 からのアクセスのみ許可\n",
    "app.run_server(host='0.0.0.0', port=5000, use_reloader=True)\n",
    "```\n",
    "\n",
    "---\n",
    "\n",
    "- app.layout ページロード時再描画\n",
    "  - ロードするたびにapp.layoutを更新するには、「app.layout = 関数名」にする。（関数の括弧は不要）\n",
    "\n",
    "参考:\n",
    "\n",
    "```python\n",
    "import datetime\n",
    "from dash import html\n",
    "\n",
    "def serve_layout():\n",
    "    return html.H1('The time is: ' + str(datetime.datetime.now()))\n",
    "\n",
    "app.layout = serve_layout # app.layout = server_layout() はNG\n",
    "\n",
    "if __name__ == '__main__':\n",
    "    app.run_server(debug=True)\n",
    "```\n",
    "\n",
    "---"
   ]
  },
  {
   "cell_type": "markdown",
   "metadata": {},
   "source": [
    "### 5.2.1 コンポーネント"
   ]
  },
  {
   "cell_type": "code",
   "execution_count": 1,
   "metadata": {},
   "outputs": [
    {
     "name": "stdout",
     "output_type": "stream",
     "text": [
      "Dash app running on http://127.0.0.1:8050/\n"
     ]
    }
   ],
   "source": [
    "# HTML 見出し（H1 タグ）に「Hello Dash」を表示する\n",
    "\n",
    "import datetime\n",
    "from jupyter_dash import JupyterDash\n",
    "from dash import html, dcc\n",
    "import pandas as pd\n",
    "from IPython.display import display\n",
    "\n",
    "# Dash インスタンスを生成する\n",
    "external_stylesheets = ['https://codepen.io/chriddyp/pen/bWLwgP.css']\n",
    "app = JupyterDash(__name__, external_stylesheets=external_stylesheets)\n",
    "\n",
    "\n",
    "# コンポーネントを layout 属性に渡す\n",
    "def serve_layout():\n",
    "    return html.H1('The time is: ' + str(datetime.datetime.now()))\n",
    "\n",
    "\n",
    "app.layout = serve_layout\n",
    "\n",
    "if __name__ == \"__main__\":\n",
    "    # アプリケーションを起動する\n",
    "    app.run_server(debug=True)\n"
   ]
  },
  {
   "cell_type": "markdown",
   "metadata": {},
   "source": [
    "### 5.2.2 スタイル設定"
   ]
  },
  {
   "cell_type": "code",
   "execution_count": 1,
   "metadata": {},
   "outputs": [
    {
     "name": "stdout",
     "output_type": "stream",
     "text": [
      "Dash app running on http://127.0.0.1:8050/\n"
     ]
    }
   ],
   "source": [
    "from jupyter_dash import JupyterDash\n",
    "from dash import html, dcc\n",
    "import pandas as pd\n",
    "from IPython.display import display\n",
    "\n",
    "# Dash インスタンスを生成する\n",
    "app = JupyterDash(__name__)\n",
    "\n",
    "def server_layout():\n",
    "    return html.H1(\n",
    "        \"Hello Dash\",\n",
    "        style=dict(color=\"red\", textAlign=\"center\"),\n",
    "    )\n",
    "\n",
    "app.layout = server_layout\n",
    "\n",
    "if __name__ == \"__main__\":\n",
    "    app.run_server(debug=True)"
   ]
  },
  {
   "cell_type": "markdown",
   "metadata": {},
   "source": [
    "### 5.2.3 グラフの作成"
   ]
  },
  {
   "cell_type": "code",
   "execution_count": 1,
   "metadata": {},
   "outputs": [
    {
     "name": "stdout",
     "output_type": "stream",
     "text": [
      "Dash app running on http://127.0.0.1:8050/\n"
     ]
    }
   ],
   "source": [
    "from jupyter_dash import JupyterDash\n",
    "from dash import html, dcc\n",
    "import plotly.express as px\n",
    "import pandas as pd\n",
    "from IPython.display import display\n",
    "\n",
    "# Dash インスタンスを生成する\n",
    "app = JupyterDash(__name__)\n",
    "\n",
    "def server_layout():\n",
    "    return dcc.Graph(\n",
    "        figure=px.bar(x=[1, 2, 3, 4, 5], y=[1, 2, 3, 4, 5])\n",
    "    )\n",
    "    \n",
    "app.layout= server_layout\n",
    "\n",
    "if __name__ == \"__main__\":\n",
    "    app.run_server(debug=True)"
   ]
  },
  {
   "cell_type": "markdown",
   "metadata": {},
   "source": [
    "### 5.2.4 レイアウト\n",
    "\n",
    "- [gunicorm](https://gunicorn.org)\n",
    "- [waitress](https://docs.pylonsproject.org/projects/waitress/en/stable/)\n",
    "- [ホットリローディング](https://dash.plotly.com/devtools)"
   ]
  },
  {
   "cell_type": "code",
   "execution_count": 1,
   "metadata": {},
   "outputs": [
    {
     "name": "stdout",
     "output_type": "stream",
     "text": [
      "Dash app running on http://127.0.0.1:8050/\n"
     ]
    }
   ],
   "source": [
    "from jupyter_dash import JupyterDash\n",
    "from dash import html, dcc\n",
    "import plotly.express as px\n",
    "\n",
    "app =JupyterDash(__name__)\n",
    "\n",
    "core_style = dict(width=\"80%\", margin=\"5% auto\")\n",
    "\n",
    "def server_layout():\n",
    "    return html.Div(\n",
    "        [\n",
    "            # 見出し\n",
    "            html.H1(\n",
    "                \"Hello Dash\", style=dict(textAlign=\"center\")\n",
    "            ),\n",
    "            # ドロップダウン\n",
    "            dcc.Dropdown(\n",
    "                options=[\n",
    "                    dict(label=\"white\", value=\"white\"),\n",
    "                    dict(label=\"yellow\", value=\"yellow\"),\n",
    "                ],\n",
    "                value=\"white\",\n",
    "                style=core_style,\n",
    "            ),\n",
    "            # グラフ\n",
    "            dcc.Graph(\n",
    "                figure=px.bar(x=[1, 2, 3, 4, 5], y=[1, 2, 3, 4, 5]),\n",
    "                style=core_style,\n",
    "            ),\n",
    "        ]\n",
    "    )\n",
    "    \n",
    "app.layout = server_layout\n",
    "\n",
    "if __name__ == \"__main__\":\n",
    "    app.run_server(debug=True)"
   ]
  },
  {
   "cell_type": "markdown",
   "metadata": {},
   "source": [
    "### 5.2.5 コールバック"
   ]
  },
  {
   "cell_type": "code",
   "execution_count": 1,
   "metadata": {},
   "outputs": [
    {
     "name": "stdout",
     "output_type": "stream",
     "text": [
      "Dash app running on http://127.0.0.1:8050/\n"
     ]
    }
   ],
   "source": [
    "# コールバックを加えて、ドロップダウンでの選択により、\n",
    "# アプリケーションの背景色を更新する\n",
    "\n",
    "from jupyter_dash import JupyterDash\n",
    "from dash import html, dcc, Input, Output\n",
    "import plotly.express as px\n",
    "\n",
    "app = JupyterDash(__name__)\n",
    "\n",
    "core_style = dict(width=\"80%\", margin=\"5% auto\")\n",
    "\n",
    "# レイアウト関数\n",
    "def server_layout():\n",
    "    return html.Div(\n",
    "        [\n",
    "            html.H1(\n",
    "                \"Hello Dash\", style=dict(textAlign=\"center\")\n",
    "            ),\n",
    "            dcc.Dropdown(\n",
    "                id=\"my-dropdown\",\n",
    "                options=[\n",
    "                    dict(label=\"white\", value=\"white\"),\n",
    "                    dict(label=\"yellow\", value=\"yellow\"),\n",
    "                ],\n",
    "                value=\"white\",\n",
    "                style=core_style,\n",
    "            ),\n",
    "            dcc.Graph(\n",
    "                figure=px.bar(x=[1, 2, 3, 4, 5], y=[1, 2, 3, 4, 5]),\n",
    "                style=core_style,\n",
    "            ),\n",
    "        ],\n",
    "        id=\"all-components\",\n",
    "    )\n",
    "    \n",
    "    \n",
    "# コールバック\n",
    "@app.callback(\n",
    "    # 戻り値の出力先を指定\n",
    "    Output(\"all-components\", \"style\"),\n",
    "    # コールバックの呼び出し要素の指定\n",
    "    Input(\"my-dropdown\", \"value\"),\n",
    ")\n",
    "def update_background(selected_value):\n",
    "    return dict(backgroundColor=selected_value, padding=\"3%\")\n",
    "\n",
    "app.layout = server_layout\n",
    "\n",
    "if __name__ == \"__main__\":\n",
    "    app.run_server(debug=True)"
   ]
  },
  {
   "cell_type": "code",
   "execution_count": null,
   "metadata": {},
   "outputs": [],
   "source": []
  }
 ],
 "metadata": {
  "kernelspec": {
   "display_name": "Python 3.10.8 ('venv': venv)",
   "language": "python",
   "name": "python3"
  },
  "language_info": {
   "codemirror_mode": {
    "name": "ipython",
    "version": 3
   },
   "file_extension": ".py",
   "mimetype": "text/x-python",
   "name": "python",
   "nbconvert_exporter": "python",
   "pygments_lexer": "ipython3",
   "version": "3.10.8"
  },
  "orig_nbformat": 4,
  "vscode": {
   "interpreter": {
    "hash": "f00ef37bf0773123a82dc35b265f2423c39ad3a8f142d1f392434fb9c90d58fd"
   }
  }
 },
 "nbformat": 4,
 "nbformat_minor": 2
}
