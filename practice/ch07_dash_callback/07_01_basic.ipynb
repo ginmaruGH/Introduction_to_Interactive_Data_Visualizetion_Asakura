{
 "cells": [
  {
   "cell_type": "markdown",
   "metadata": {},
   "source": [
    "# <span style=\"color: skyblue; \">Ch07 Dash コールバック</span>\n"
   ]
  },
  {
   "cell_type": "markdown",
   "metadata": {},
   "source": [
    "## <span style=\"color: skyblue; \">7.1 コールバック基礎</span>\n",
    "\n",
    "- コールバックの概要\n",
    "- 入力データを即座に反映するコールバック\n",
    "- 複数の入出力が存在するコールバック"
   ]
  },
  {
   "cell_type": "markdown",
   "metadata": {},
   "source": [
    "### <span style=\"color: skyblue; \">7.1.1 コールバックの概要</span>"
   ]
  },
  {
   "cell_type": "code",
   "execution_count": 1,
   "metadata": {},
   "outputs": [
    {
     "name": "stdout",
     "output_type": "stream",
     "text": [
      "Dash app running on http://127.0.0.1:8050/\n"
     ]
    }
   ],
   "source": [
    "# ボタンをクリックするとテキストエリアへ入力された文字を見出しに描画する\n",
    "\n",
    "from jupyter_dash import JupyterDash\n",
    "from dash import html, dcc\n",
    "from dash.dependencies import Input, Output, State\n",
    "\n",
    "external_stylesheets = [\"https://codepen.io/chriddyp/pen/bWLwgP.css\"]\n",
    "app = JupyterDash(__name__, external_stylesheets=external_stylesheets)\n",
    "\n",
    "# レイアウト\n",
    "def server_layout():\n",
    "    return html.Div(\n",
    "        [\n",
    "            # コールバックの返り値を表示する\n",
    "            html.H1(id=\"output-header-title\"),\n",
    "            html.P(\"タイトルをテキストエリア値に変更する\"),\n",
    "            # 文字列を入力するテキストエリア\n",
    "            dcc.Textarea(\n",
    "                id=\"input-text-state\",\n",
    "                value=\"initial value\",\n",
    "                style=dict(width=\"80%\", fontSize=\"30px\"),\n",
    "            ),\n",
    "            # クリックするとコールバックを呼び出すボタン\n",
    "            html.Button(\n",
    "                id=\"submit-button\",\n",
    "                n_clicks=0,\n",
    "                children=\"Submit\"\n",
    "            ),\n",
    "        ],\n",
    "        style=dict(margin=50),\n",
    "    )\n",
    "app.layout = server_layout\n",
    "\n",
    "# コールバックの作成\n",
    "@app.callback(\n",
    "    Output(component_id=\"output-header-title\", component_property=\"children\"),\n",
    "    Input(component_id=\"submit-button\", component_property=\"n_clicks\"),\n",
    "    State(\"input-text-state\", \"value\"),\n",
    ")\n",
    "def update_title(n_click, text_value):\n",
    "    return text_value\n",
    "\n",
    "\n",
    "if __name__ == \"__main__\":\n",
    "    app.run_server(debug=True)"
   ]
  },
  {
   "cell_type": "markdown",
   "metadata": {},
   "source": [
    "### <span style=\"color: skyblue; \">7.1.2 入力データを即座に反映するコールバック</span>\n",
    "\n",
    "- [dcc.Slider](https://dash.plotly.com/dash-core-components/slider)\n"
   ]
  },
  {
   "cell_type": "code",
   "execution_count": 1,
   "metadata": {},
   "outputs": [
    {
     "name": "stdout",
     "output_type": "stream",
     "text": [
      "Dash app running on http://127.0.0.1:8050/\n"
     ]
    }
   ],
   "source": [
    "# スライダのハンドル位置の変化をH1に反映する\n",
    "# updatemode=\"drag\": 動作を即座に反映させる\n",
    "\n",
    "from jupyter_dash import JupyterDash\n",
    "from dash import html, dcc\n",
    "from dash.dependencies import Input, Output\n",
    "\n",
    "app = JupyterDash(__name__)\n",
    "\n",
    "# レイアウト\n",
    "def server_layout():\n",
    "    return html.Div(\n",
    "        [\n",
    "            html.H1(id=\"callback-output\"),\n",
    "            dcc.Slider(\n",
    "                id=\"callback-input\",\n",
    "                min=0,\n",
    "                max=100,\n",
    "                value=0,\n",
    "                marks=None,\n",
    "                updatemode=\"drag\"\n",
    "            ),\n",
    "        ],\n",
    "        style=dict(textAlign=\"center\", width=\"60%\", margin=\"auto\"),\n",
    "    )\n",
    "app.layout = server_layout\n",
    "\n",
    "# コールバックの作成\n",
    "@app.callback(\n",
    "    Output(component_id=\"callback-output\", component_property=\"children\"),\n",
    "    Input(component_id=\"callback-input\", component_property=\"value\"),\n",
    ")\n",
    "def update_title(num_value):\n",
    "    return num_value\n",
    "\n",
    "\n",
    "if __name__ == \"__main__\":\n",
    "    app.run_server(debug=True)"
   ]
  },
  {
   "cell_type": "markdown",
   "metadata": {},
   "source": [
    "### <span style=\"color: skyblue; \">7.1.3 複数の入出力が存在するコールバック</span>\n",
    "\n",
    "- tips データセットを用いて、コールバックに出力項目と入力項目を2つずつもつアプリケーション\n",
    "- 2つのドロップダウンともつ\n",
    "  - 一方は表示する曜日の選択\n",
    "  - 一方は表示するグラフの選択\n",
    "  - 棒グラフには曜日ごとの売上の累計\n",
    "  - 散布図にはX軸に会計額、Y軸にチップ金額を表示"
   ]
  },
  {
   "cell_type": "code",
   "execution_count": 1,
   "metadata": {},
   "outputs": [
    {
     "name": "stdout",
     "output_type": "stream",
     "text": [
      "Dash app running on http://127.0.0.1:8050/\n"
     ]
    }
   ],
   "source": [
    "from jupyter_dash import JupyterDash\n",
    "from dash import html, dcc\n",
    "from dash.dependencies import Input, Output\n",
    "import plotly.express as px\n",
    "\n",
    "tips = px.data.tips()\n",
    "\n",
    "external_stylesheets = [\"https://codepen.io/chriddyp/pen/bWLwgP.css\"]\n",
    "app = JupyterDash(__name__, external_stylesheets=external_stylesheets)\n",
    "\n",
    "# レイアウト\n",
    "def server_layout():\n",
    "    return html.Div(\n",
    "        [\n",
    "            html.H3(id=\"title\", style=dict(textAlign=\"center\")),\n",
    "            html.Div(\n",
    "                [\n",
    "                    html.Div(\n",
    "                        [\n",
    "                            html.H4(\"曜日選択\"),\n",
    "                            dcc.Dropdown(\n",
    "                                id=\"day_selector\",\n",
    "                                options=[\n",
    "                                    dict(label=dow, value=dow) for dow in tips.day.unique()\n",
    "                                ],\n",
    "                                # 複数選択可\n",
    "                                multi=True,\n",
    "                                value=[\"Thur\", \"Fri\", \"Sat\", \"Sun\"],\n",
    "                            ),\n",
    "                        ],\n",
    "                        className=\"six columns\",\n",
    "                    ),\n",
    "                    html.Div(\n",
    "                        [\n",
    "                            html.H4(\"グラフ選択\"),\n",
    "                            dcc.Dropdown(\n",
    "                                id=\"graph_selector\",\n",
    "                                options=[\n",
    "                                    dict(label=\"bar\", value=\"bar\"),\n",
    "                                    dict(label=\"scatter\", value=\"scatter\"),\n",
    "                                ],\n",
    "                                value=\"bar\",\n",
    "                            ),\n",
    "                        ],\n",
    "                        className=\"six columns\",\n",
    "                    ),\n",
    "                ],\n",
    "                style=dict(padding=\"2%\", margin=\"auto\"),\n",
    "            ),\n",
    "            dcc.Graph(id=\"app_graph\", style=dict(padding=\"5%\", marginTop=\"50px\")),\n",
    "        ],\n",
    "    )\n",
    "app.layout = server_layout\n",
    "\n",
    "# コールバックの作成\n",
    "@app.callback(\n",
    "    Output(component_id=\"title\", component_property=\"children\"),\n",
    "    Output(component_id=\"app_graph\", component_property=\"figure\"),\n",
    "    Input(component_id=\"day_selector\", component_property=\"value\"),\n",
    "    Input(component_id=\"graph_selector\", component_property=\"value\"),\n",
    ")\n",
    "def update_graph(selected_days, selected_graph):\n",
    "    selected_df = tips[tips[\"day\"].isin(selected_days)]\n",
    "    if selected_graph == \"scatter\":\n",
    "        title = \"テーブルごとのデータ（散布図）\"\n",
    "        figure = px.scatter(\n",
    "            selected_df, x=\"total_bill\", y=\"tip\", color=\"smoker\", height=600\n",
    "        )\n",
    "    else:\n",
    "        title = \"曜日ごとの売上（棒グラフ）\",\n",
    "        figure = px.bar(selected_df, x=\"day\", y=\"total_bill\", height=600)\n",
    "    return title, figure\n",
    "\n",
    "\n",
    "if __name__ == \"__main__\":\n",
    "    app.run_server(debug=True)"
   ]
  }
 ],
 "metadata": {
  "kernelspec": {
   "display_name": "Python 3.10.8 ('venv': venv)",
   "language": "python",
   "name": "python3"
  },
  "language_info": {
   "codemirror_mode": {
    "name": "ipython",
    "version": 3
   },
   "file_extension": ".py",
   "mimetype": "text/x-python",
   "name": "python",
   "nbconvert_exporter": "python",
   "pygments_lexer": "ipython3",
   "version": "3.10.8"
  },
  "orig_nbformat": 4,
  "vscode": {
   "interpreter": {
    "hash": "f00ef37bf0773123a82dc35b265f2423c39ad3a8f142d1f392434fb9c90d58fd"
   }
  }
 },
 "nbformat": 4,
 "nbformat_minor": 2
}
