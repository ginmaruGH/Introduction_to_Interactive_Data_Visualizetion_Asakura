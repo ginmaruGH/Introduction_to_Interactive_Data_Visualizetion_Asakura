{
 "cells": [
  {
   "cell_type": "markdown",
   "metadata": {},
   "source": [
    "# [Adding CSS & JS and Overriding the Page-Load Template](https://dash.plotly.com/external-resources)\n",
    "\n",
    "Dash apps are rendered in the web browser with CSS and JavaScript. On page load, Dash serves a small HTML template that includes references to the CSS and JavaScript that are required to render the app. This chapter covers everything that you need to know about configuring this HTML file and about including external CSS and JavaScript in Dash apps."
   ]
  },
  {
   "cell_type": "markdown",
   "metadata": {},
   "source": [
    "# CSSとJSの追加とページロードテンプレートのオーバーライド\n",
    "\n",
    "Dash アプリは、Web ブラウザ上で CSS と JavaScript を使用してレンダリングされます。ページの読み込み時に、Dashはアプリのレンダリングに必要なCSSとJavaScriptへの参照を含む小さなHTMLテンプレートを提供します。この章では、このHTMLファイルの設定と、Dashアプリに外部CSSおよびJavaScriptを含めるために知っておくべきことをすべて説明します。"
   ]
  },
  {
   "cell_type": "markdown",
   "metadata": {},
   "source": [
    "## Adding Your Own CSS and JavaScript to Dash Apps\n",
    "\n",
    "Dash supports adding custom CSS or JavaScript in your apps.\n",
    "\n",
    "Create a folder named `assets` in the root of your app directory and include your CSS and JavaScript files in that folder. Dash automatically serves all the files that are included in this folder. By default, the URL to request the assets is `/assets`, but you can customize this with the `assets_url_path` argument to `dash.Dash`.\n",
    "\n",
    "**Important: For these examples, you need to include __name__ in your Dash constructor.**\n",
    "\n",
    "That is, `app = dash.Dash(__name__) instead of app = dash.Dash()`. [Here's why](https://community.plotly.com/t/dash-app-does-not-load-assets-and-app-index-string/12178/9?u=chriddyp&_gl=1*1hyp0sj*_ga*MTU4NzAyNjYyMC4xNjY4NjM2MzMw*_ga_6G7EE0JNSC*MTY2OTU5Mzk2Ny41OC4xLjE2Njk1OTU5MDEuMC4wLjA.)."
   ]
  },
  {
   "cell_type": "markdown",
   "metadata": {},
   "source": [
    "## Dashアプリに独自のCSSとJavaScriptを追加する\n",
    "\n",
    "Dashは、アプリケーションにカスタムCSSやJavaScriptを追加することをサポートしています。\n",
    "\n",
    "アプリのディレクトリのルートに `assets` という名前のフォルダを作成し、その中にCSSとJavaScriptのファイルを含めます。Dashは、このフォルダに含まれるすべてのファイルを自動的に提供します。デフォルトでは、アセットを要求するためのURLは `/assets` ですが、`dash.Dash` の `assets_url_path` 引数でカスタマイズすることができます。\n",
    "\n",
    "**重要なことです。これらの例では、Dash のコンストラクタに __name__ をインクルードする必要があります **。\n",
    "\n",
    "つまり、`app = dash.Dash()`ではなく、`app = dash.Dash(__name__)' ということです。[その理由は以下の通りです](https://community.plotly.com/t/dash-app-does-not-load-assets-and-app-index-string/12178/9?u=chriddyp&_gl=1*1hyp0sj*_ga*MTU4NzAyNjYyMC4xNjY4NjM2MzMw*_ga_6G7EE0JNSC*MTY2OTU5Mzk2Ny41OC4xLjE2Njk1OTU5MDEuMC4wLjA.)。"
   ]
  },
  {
   "cell_type": "markdown",
   "metadata": {},
   "source": [
    "### Example: Including Local CSS and JavaScript\n",
    "\n",
    "We'll create several files: `app.py`, a folder named `assets`, and three files in that folder:"
   ]
  },
  {
   "cell_type": "markdown",
   "metadata": {},
   "source": [
    "### 例 ローカルCSSとJavaScriptのインクルード\n",
    "\n",
    "いくつかのファイルを作成します。app.py`、`assets`という名前のフォルダ、そしてそのフォルダにある3つのファイルです。"
   ]
  },
  {
   "cell_type": "markdown",
   "metadata": {},
   "source": [
    "```bash\n",
    "- app.py\n",
    "- assets/\n",
    "    |-- typography.css\n",
    "    |-- header.css\n",
    "    |-- custom-script.js\n",
    "```"
   ]
  },
  {
   "cell_type": "markdown",
   "metadata": {},
   "source": [
    "`app.py`"
   ]
  },
  {
   "cell_type": "code",
   "execution_count": null,
   "metadata": {},
   "outputs": [],
   "source": [
    "from dash import Dash, html, dcc\n",
    "\n",
    "app = Dash(__name__)\n",
    "\n",
    "app.layout = html.Div([\n",
    "    html.Div(\n",
    "        className=\"app-header\",\n",
    "        children=[\n",
    "            html.Div('Plotly Dash', className=\"app-header--title\")\n",
    "        ]\n",
    "    ),\n",
    "    html.Div(\n",
    "        children=html.Div([\n",
    "            html.H5('Overview'),\n",
    "            html.Div('''\n",
    "                This is an example of a simple Dash app with\n",
    "                local, customized CSS.\n",
    "            ''')\n",
    "        ])\n",
    "    )\n",
    "])\n",
    "\n",
    "if __name__ == '__main__':\n",
    "    app.run_server(debug=True)"
   ]
  },
  {
   "cell_type": "markdown",
   "metadata": {},
   "source": [
    "`typography.css`"
   ]
  },
  {
   "cell_type": "markdown",
   "metadata": {},
   "source": [
    "```css\n",
    "body {\n",
    "    font-family: sans-serif;\n",
    "}\n",
    "h1, h2, h3, h4, h5, h6 {\n",
    "    color: hotpink\n",
    "}\n",
    "```"
   ]
  },
  {
   "cell_type": "markdown",
   "metadata": {},
   "source": [
    "`header.css`"
   ]
  },
  {
   "cell_type": "markdown",
   "metadata": {},
   "source": [
    "```css\n",
    ".app-header {\n",
    "    height: 60px;\n",
    "    line-height: 60px;\n",
    "    border-bottom: thin lightgrey solid;\n",
    "}\n",
    "\n",
    ".app-header .app-header--title {\n",
    "    font-size: 22px;\n",
    "    padding-left: 5px;\n",
    "}\n",
    "```"
   ]
  },
  {
   "cell_type": "markdown",
   "metadata": {},
   "source": [
    "`custom-script.js`"
   ]
  },
  {
   "cell_type": "markdown",
   "metadata": {},
   "source": [
    "```js\n",
    "alert('If you see this alert, then your custom JavaScript script has run!')\n",
    "```"
   ]
  },
  {
   "cell_type": "markdown",
   "metadata": {},
   "source": [
    "When you run `app.py`, your app should look something like this: (Note that there may be some slight differences in appearance as the CSS from this Dash User Guide is applied to all of these embedded examples.)"
   ]
  },
  {
   "cell_type": "markdown",
   "metadata": {},
   "source": [
    "`app.py` を実行すると、アプリは次のようになります: (この Dash ユーザーガイドの CSS がすべての組み込み例に適用されるため、外観に若干の違いがあることに注意してください)。"
   ]
  },
  {
   "cell_type": "markdown",
   "metadata": {},
   "source": [
    "There are a few things to keep in mind when including assets automatically:\n",
    "\n",
    "1 - The following file types will automatically be included:\n",
    "\n",
    "  A - CSS files suffixed with `.css`\n",
    "\n",
    "  B - JavaScript files suffixed with `.js`\n",
    "\n",
    "  C - A single file named `favicon.ico` (the page tab's icon)\n",
    "\n",
    "2 - Dash will include the files in alphanumerical order by filename. So, we recommend prefixing your filenames with numbers if you need to ensure their order (e.g. `10_typography.css`, `20_header.css`)\n",
    "\n",
    "3 - You can ignore certain files in your assets folder with a regex filter using `app = dash.Dash(assets_ignore='.*ignored.*')`. This will prevent Dash from loading files which contain the above pattern.\n",
    "\n",
    "4 - If you want to include CSS from a remote URL, then see the next section.\n",
    "\n",
    "5 - Your custom CSS will be included after the Dash component CSS\n",
    "\n",
    "6 - It is recommended to add `__name__` to the dash init to ensure the resources in the assets folder are loaded, eg: `app = dash.Dash(__name__, meta_tags=[...])`. When you run your application through some other command line (like the flask command or gunicorn/waitress), the `__main__` module will no longer be located where `app.py` is. By explicitly setting `__name__`, Dash will be able to locate the relative `assets` folder correctly."
   ]
  },
  {
   "cell_type": "markdown",
   "metadata": {},
   "source": [
    "アセットを自動的に含める場合、いくつかの注意点があります。\n",
    "\n",
    "1 - 以下のファイル形式は自動的に含まれます。\n",
    "\n",
    "  A - `.css`で終わるCSSファイル。\n",
    "\n",
    "  B - サフィックスが `.js` であるJavaScriptファイル。\n",
    "\n",
    "  C - `favicon.ico` という名前のファイル (ページタブのアイコンです)\n",
    "\n",
    "2 - Dashは、ファイル名のアルファベット順にファイルを含めます。そのため、順番を確認したい場合は、ファイル名の前に数字を付けることをお勧めします（例：`10_typography.css`, `20_header.css` など）。\n",
    "\n",
    "3 - `app = dash.Dash(assets_ignore='.*ignored.*')` という正規表現を使うと、assetsフォルダー内の特定のファイルを無視することができます。これにより、Dashは上記のパターンを含むファイルを読み込まないようになります。\n",
    "\n",
    "4 - リモートURLからCSSをインクルードしたい場合は、次のセクションを参照してください。\n",
    "\n",
    "5 - カスタム CSS は Dash コンポーネント CSS の後に含まれます。\n",
    "\n",
    "6 - assets フォルダにあるリソースがロードされるように、dash init に `__name__` を追加することをお勧めします。例えば、 `app = dash.Dash(__name__, meta_tags=[...])` です。他のコマンドライン(flaskコマンドやgunicorn/waitressなど)でアプリケーションを実行すると、`__main__`モジュールは `app.py` がある場所には配置されなくなります。明示的に `__name__` を設定することで、Dash は相対的な `assets` フォルダの場所を正しく特定することができます。"
   ]
  },
  {
   "cell_type": "markdown",
   "metadata": {},
   "source": [
    "### Hot Reloading\n",
    "\n",
    "By default, Dash includes \"hot-reloading\". This means that Dash will automatically refresh your browser when you make a change in your Python code and your CSS code.\n",
    "\n",
    "Give it a try: Change the color in `typography.css` from `hotpink` to `orange` and see your application update.\n",
    "\n",
    ">Don't like hot-reloading? You can turn this off with `app.run_server(dev_tools_hot_reload=False)`. Learn more in [Dash Dev Tools documentation](https://dash.plotly.com/devtools). Questions? See the [community forum hot reloading discussion](https://community.plotly.com/t/announcing-hot-reload/14177?_gl=1*8f02ci*_ga*MTU4NzAyNjYyMC4xNjY4NjM2MzMw*_ga_6G7EE0JNSC*MTY2OTU5Mzk2Ny41OC4xLjE2Njk1OTY3NTUuMC4wLjA.)."
   ]
  },
  {
   "cell_type": "markdown",
   "metadata": {},
   "source": [
    "### ホットリローディング\n",
    "\n",
    "デフォルトでは、Dash は \"ホットリロード\" を含んでいます。これは、PythonのコードやCSSのコードに変更を加えたときに、Dashが自動的にブラウザを更新することを意味します。\n",
    "\n",
    "試してみてください。`typography.css` の色を `hotpink` から `orange` に変更し、アプリケーションが更新されるのを確認してください。\n",
    "\n",
    ">ホットリロードが嫌いですか？app.run_server(dev_tools_hot_reload=False)` でオフにすることができます。詳しくは [Dash Dev Tools documentation](https://dash.plotly.com/devtools) を参照してください。質問がありますか？[コミュニティフォーラムのホットリロードに関する議論](https://community.plotly.com/t/announcing-hot-reload/14177?_gl=1*8f02ci*_ga*MTU4NzAyNjYyMC4xNjY4NjM2MzMw*_ga_6G7EE0JNSC*MTY2OTU5Mzk2Ny41OC4xLjE2Njk1OTY3NTUuMC4wLjA.)を参照してください。"
   ]
  },
  {
   "cell_type": "markdown",
   "metadata": {},
   "source": [
    "## Load Assets from a Folder Hosted on a CDN\n",
    "\n",
    "If you duplicate the file structure of your local assets folder to a folder hosted externally to your Dash app, you can use `assets_external_path='http://your-external-assets-folder-url'` in the Dash constructor to load the files from there instead of locally. Dash will index your local assets folder to find all of your assets, map their relative path onto `assets_external_path` and then request the resources from there. `app.scripts.config.serve_locally = False` must also be set in order for this to work.\n",
    "\n",
    "NOTE: In Dash 0.43.0 and before, `app.scripts.config.serve_locally = False` was the default, except when dev bundles are served (such as during debugging). Starting with Dash 1.0.0, `serve_locally` defaults to `True`."
   ]
  },
  {
   "cell_type": "markdown",
   "metadata": {},
   "source": [
    "## CDNにホストされているフォルダからアセットを読み込む\n",
    "\n",
    "ローカルアセットフォルダのファイル構造を Dash アプリの外部でホストされているフォルダに複製した場合、Dash のコンストラクタで `assets_external_path='http://your-external-assets-folder-url'` を使用すると、ローカルではなくそこからファイルを読み込むことができます。Dash はローカルの assets フォルダをインデックスしてすべてのアセットを見つけ、その相対パスを `assets_external_path` にマップして、そこからリソースを要求します。この機能を使用するには、`app.scripts.config.serve_locally = False`も設定する必要があります。\n",
    "\n",
    "注意: Dash 0.43.0 およびそれ以前では、(デバッグ時など) dev bundles がサーブされる場合を除いて、`app.scripts.config.serve_locally = False` が既定値となっていました。Dash 1.0.0 以降では、`serve_locally` のデフォルトは `True` になっています。"
   ]
  },
  {
   "cell_type": "markdown",
   "metadata": {},
   "source": [
    "Example:"
   ]
  },
  {
   "cell_type": "code",
   "execution_count": null,
   "metadata": {},
   "outputs": [],
   "source": [
    "import dash\n",
    "from dash import html\n",
    "\n",
    "app = dash.Dash(\n",
    "    __name__,\n",
    "    assets_external_path='http://your-external-assets-folder-url/'\n",
    ")\n",
    "app.scripts.config.serve_locally = False"
   ]
  },
  {
   "cell_type": "markdown",
   "metadata": {},
   "source": [
    "## Embedding Images in Your Dash Apps\n",
    "\n",
    "In addition to CSS and javascript files, you can include images in the `assets` folder. An example of the folder structure:"
   ]
  },
  {
   "cell_type": "markdown",
   "metadata": {},
   "source": [
    "## Dashアプリに画像を埋め込む\n",
    "\n",
    "CSSとjavascriptのファイルに加えて、`assets`フォルダに画像を含めることができます。フォルダ構成の一例。"
   ]
  },
  {
   "cell_type": "markdown",
   "metadata": {},
   "source": [
    "```bash\n",
    "- app.py\n",
    "- assets/\n",
    "    |-- image.png\n",
    "```"
   ]
  },
  {
   "cell_type": "markdown",
   "metadata": {},
   "source": [
    "In your `app.py` file you can use the relative path to that image:"
   ]
  },
  {
   "cell_type": "markdown",
   "metadata": {},
   "source": [
    "`app.py` ファイルで、その画像への相対パスを使用することができます。"
   ]
  },
  {
   "cell_type": "code",
   "execution_count": null,
   "metadata": {},
   "outputs": [],
   "source": [
    "from dash import Dash, html\n",
    "\n",
    "app = Dash(__name__)\n",
    "\n",
    "app.layout = html.Div([\n",
    "    html.Img(src='/assets/image.png')\n",
    "])\n",
    "\n",
    "if __name__ == '__main__':\n",
    "    app.run_server(debug=True)"
   ]
  },
  {
   "cell_type": "markdown",
   "metadata": {},
   "source": [
    ">If placing images inside the `assets` folder isn't an option, then you can also embed images \"inline\" with base64 encoding:"
   ]
  },
  {
   "cell_type": "markdown",
   "metadata": {},
   "source": [
    ">もし、画像を `assets` フォルダ内に配置することができない場合は、画像を \"inline\" で base64 エンコーディングして埋め込むこともできます。"
   ]
  },
  {
   "cell_type": "code",
   "execution_count": null,
   "metadata": {},
   "outputs": [],
   "source": [
    "import base64\n",
    "from dash import Dash, html\n",
    "\n",
    "app = Dash(__name__)\n",
    "\n",
    "image_filename = 'my-image.png'\n",
    "\n",
    "def b64_image(image_filename):\n",
    "    with open(image_filename, 'rb') as f:\n",
    "        image = f.read()\n",
    "    return 'data:image/png;base64,' + base64.b64encode(image).decode('utf-8')\n",
    "\n",
    "app.layout = html.Img(src=b64_image(image_filename))"
   ]
  },
  {
   "cell_type": "markdown",
   "metadata": {},
   "source": [
    "## Changing the Favicon\n",
    "\n",
    "It is possible to override the default favicon by adding a file named `favicon.ico` to your assets `folder`. Changes to this file will implement cache-busting automatically."
   ]
  },
  {
   "cell_type": "markdown",
   "metadata": {},
   "source": [
    "## Changing the Favicon\n",
    "\n",
    "デフォルトのファビコンを上書きするには、`favicon.ico`というファイルを assets `folder` に追加してください。このファイルを変更すると、キャッシュバスターが自動的に実装されます。"
   ]
  },
  {
   "cell_type": "markdown",
   "metadata": {},
   "source": [
    "```bash\n",
    "- app.py\n",
    "- assets/\n",
    "    |-- favicon.ico\n",
    "```"
   ]
  },
  {
   "cell_type": "markdown",
   "metadata": {},
   "source": [
    "## Adding External CSS/JavaScript\n",
    "\n",
    "You can add resources hosted externally to your Dash app with the `external_stylesheets` & `external_scripts` init keywords.\n",
    "\n",
    "The resources can be either a string or a dict containing the tag attributes (`src`, `integrity`, `crossorigin`, etc). You can mix both.\n",
    "\n",
    "External css/js files are loaded before the assets."
   ]
  },
  {
   "cell_type": "markdown",
   "metadata": {},
   "source": [
    "## 外部CSS/JavaScriptを追加する\n",
    "\n",
    "外部でホストされているリソースを Dash アプリに追加するには、 `external_stylesheets` と `external_scripts` という init キーワードを使用します。\n",
    "\n",
    "リソースは文字列か、タグの属性 (`src`、`integrity`、`crossorigin` など) を含む dict のどちらかを指定することができます。両方を混ぜることもできます。\n",
    "\n",
    "外部 css/js ファイルは、アセットの前に読み込まれます。"
   ]
  },
  {
   "cell_type": "markdown",
   "metadata": {},
   "source": [
    "Example:"
   ]
  },
  {
   "cell_type": "code",
   "execution_count": null,
   "metadata": {},
   "outputs": [],
   "source": [
    "from dash import Dash, html\n",
    "\n",
    "\n",
    "# external JavaScript files\n",
    "external_scripts = [\n",
    "    'https://www.google-analytics.com/analytics.js',\n",
    "    {'src': 'https://cdn.polyfill.io/v2/polyfill.min.js'},\n",
    "    {\n",
    "        'src': 'https://cdnjs.cloudflare.com/ajax/libs/lodash.js/4.17.10/lodash.core.js',\n",
    "        'integrity': 'sha256-Qqd/EfdABZUcAxjOkMi8eGEivtdTkh3b65xCZL4qAQA=',\n",
    "        'crossorigin': 'anonymous'\n",
    "    }\n",
    "]\n",
    "\n",
    "# external CSS stylesheets\n",
    "external_stylesheets = [\n",
    "    'https://codepen.io/chriddyp/pen/bWLwgP.css',\n",
    "    {\n",
    "        'href': 'https://stackpath.bootstrapcdn.com/bootstrap/4.1.3/css/bootstrap.min.css',\n",
    "        'rel': 'stylesheet',\n",
    "        'integrity': 'sha384-MCw98/SFnGE8fJT3GXwEOngsV7Zt27NXFoaoApmYm81iuXoPkFOJwJ8ERdknLPMO',\n",
    "        'crossorigin': 'anonymous'\n",
    "    }\n",
    "]\n",
    "\n",
    "\n",
    "app = Dash(__name__,\n",
    "                external_scripts=external_scripts,\n",
    "                external_stylesheets=external_stylesheets)\n",
    "\n",
    "app.layout = html.Div()\n",
    "\n",
    "if __name__ == '__main__':\n",
    "    app.run_server(debug=True)\n"
   ]
  },
  {
   "cell_type": "markdown",
   "metadata": {},
   "source": [
    "## Controlling the Plotly.js Version Used by dcc.Graph\n",
    "\n",
    "The [dcc.Graph component](https://dash.plotly.com/dash-core-components/graph) leverages the [Plotly.js](https://plotly.com/javascript/?_gl=1*1vshifl*_ga*MTU4NzAyNjYyMC4xNjY4NjM2MzMw*_ga_6G7EE0JNSC*MTY2OTU5Mzk2Ny41OC4xLjE2Njk1OTY3NTUuMC4wLjA.) library to render visualizations. The `dcc.Graph` component comes with its own version of the Plotly.js library, but this can be overridden by placing a Plotly.js bundle in the `assets` directory as described above.\n",
    "\n",
    "This technique can be used to:\n",
    "\n",
    "- take advantage of new features in a version of Plotly.js that is **more recent** than the one that is included in the currently-installed version of `dash_core_components` (or Dash Enterprise Design Kit).\n",
    "\n",
    "- take advantage of more desirable behaviour of a version of Plotly.js that is **less recent** than the one that is included in the currently-installed version of `dash_core_components` (or Dash Enterprise Design Kit). Note that this situation should be rare and short-lived, as we strive to make more-recent Plotly.js versions totally backwards-compatible with older versions!\n",
    "\n",
    "- use a [Plotly-distributed Plotly.js partial bundle](https://github.com/plotly/plotly.js/blob/master/dist/README.md) or [a custom-built Plotly.js bundle](https://github.com/plotly/plotly.js/blob/master/BUILDING.md) which only includes the subset of Plotly.js features that your Dash app uses. Such bundles are smaller than the full Plotly.js bundles that come with the `dcc.Graph` component and can therefore improve your app's loading time."
   ]
  },
  {
   "cell_type": "markdown",
   "metadata": {},
   "source": [
    "## dcc.Graphで使用するPlotly.jsのバージョンを制御する\n",
    "\n",
    "[dcc.Graphコンポーネント](https://dash.plotly.com/dash-core-components/graph)は[Plotly.js](https://plotly.com/javascript/?_gl=1*1vshifl*_ga*MTU4NzAyNjYyMC4xNjY4NjM2MzMw*_ga_6G7EE0JNSC*MTY2OTU5Mzk2Ny41OC4xLjE2Njk1OTY3NTUuMC4wLjA.)ライブラリを利用してビジュアライゼーションをレンダリングしています。`dcc.Graph` コンポーネントは独自のバージョンの Plotly.js ライブラリを持っていますが、上記のように `assets` ディレクトリに Plotly.js バンドルを置くことでオーバーライドすることができます。\n",
    "\n",
    "この技法は、次のように使うことができます。\n",
    "\n",
    "- 現在インストールされている `dash_core_components` (または Dash Enterprise Design Kit) に含まれているものより **新しい** バージョンの Plotly.js の新機能を利用することができるようになります。\n",
    "\n",
    "- 現在インストールされている `dash_core_components` (または Dash Enterprise Design Kit) に含まれているバージョンよりも **あまり最近ではない** な Plotly.js の、より望ましい振る舞いを利用することができるようになります。このような状況は稀であり、短期間であることに注意してください。私たちは、より新しいバージョンのPlotly.jsを古いバージョンと完全に後方互換性を持つように努めています\n",
    "\n",
    "- Dashアプリが使用するPlotly.jsのサブセット機能のみを含む[Plotly配布のPlotly.js部分バンドル](https://github.com/plotly/plotly.js/blob/master/dist/README.md)または[カスタムビルドのPlotly.jsバンドル](https://github.com/plotly/plotly.js/blob/master/BUILDING.md)を使用してください。このようなバンドルは `dcc.Graph` コンポーネントに付属する完全な Plotly.js バンドルよりも小さく、したがってアプリの読み込み時間を改善することができます。\n"
   ]
  },
  {
   "cell_type": "markdown",
   "metadata": {},
   "source": [
    "## Rendering LaTeX Inside dcc.Graph Figures\n",
    "\n",
    "To use the built-in Plotly.js capability of rendering LaTeX inside figure labels, the `external_script` functionality described above can be used: add `external_scripts=[\"https://cdnjs.cloudflare.com/ajax/libs/mathjax/2.7.5/MathJax.js?config=TeX-MML-AM_CHTML\" ]` to the `app = dash.Dash()` call."
   ]
  },
  {
   "cell_type": "markdown",
   "metadata": {},
   "source": [
    "## dcc.Graphの図中のLaTeXのレンダリング\n",
    "\n",
    "Plotly.jsに組み込まれている、図のラベルの中にLaTeXをレンダリングする機能を使用するには、上記の `external_scripts` 機能を使用します： `external_scripts=[\"https://cdnjs.cloudflare.com/ajax/libs/mathjax/2.7.5/MathJax.js?config=TeX-MML-AM_CHTML\" ]` を `app = dash.Dash()` コールに追加してください。"
   ]
  },
  {
   "cell_type": "markdown",
   "metadata": {},
   "source": [
    "## Customizing Dash's Document or Browser Tab Title\n",
    "\n",
    "The Document Title is the name of the web page that appears in your web browser's tab.\n",
    "\n",
    "By default, it is Dash.\n",
    "\n",
    "As of Dash 1.14.0, you can customize this title with the `title=` keyword:"
   ]
  },
  {
   "cell_type": "markdown",
   "metadata": {},
   "source": [
    "## Dash のドキュメントまたはブラウザーのタブタイトルをカスタマイズする\n",
    "\n",
    "ドキュメントタイトルとは、Webブラウザのタブに表示されるWebページの名前です。\n",
    "\n",
    "デフォルトでは、これは Dash です。\n",
    "\n",
    "Dash 1.14.0 以降では、このタイトルを `title=` キーワードでカスタマイズすることができます。"
   ]
  },
  {
   "cell_type": "code",
   "execution_count": null,
   "metadata": {},
   "outputs": [],
   "source": [
    "app = dash.Dash(__name__, title='Weekly Analytics')"
   ]
  },
  {
   "cell_type": "markdown",
   "metadata": {},
   "source": [
    ">Note - Prior to 1.14.0, setting `app.title` was an unnofficial way to set this title. This is still possible but may be removed in the future. We recommend using `title=` instead."
   ]
  },
  {
   "cell_type": "markdown",
   "metadata": {},
   "source": [
    ">Note - 1.14.0 より前のバージョンでは、`app.title` を設定することが、このタイトルを設定するための非公式な方法でした。これはまだ可能ですが、将来的に削除される可能性があります。代わりに `title=` を使用することをお勧めします。"
   ]
  },
  {
   "cell_type": "markdown",
   "metadata": {},
   "source": [
    "## Update the Document Title Dynamically Based on the URL or Tab\n",
    "\n",
    "To set the document title dynamically, you can use a clientside callback that updates the `document.title` as a side effect. The example below sets the `document.title` based off of the currently selected tab."
   ]
  },
  {
   "cell_type": "markdown",
   "metadata": {},
   "source": [
    "## URL やタブに基づいてドキュメントのタイトルを動的に更新する\n",
    "\n",
    "ドキュメントのタイトルを動的に設定するには、副作用として `document.title` を更新するクライアントサイドのコールバックを使用することができます。以下の例では、現在選択されているタブを元に `document.title` を設定します。"
   ]
  },
  {
   "cell_type": "code",
   "execution_count": null,
   "metadata": {},
   "outputs": [],
   "source": [
    "import dash\n",
    "from dash.dependencies import Input, Output\n",
    "from dash import html, dcc\n",
    "\n",
    "app = dash.Dash(__name__)\n",
    "\n",
    "app.layout = html.Div([\n",
    "    html.Div(id='blank-output'),\n",
    "    dcc.Tabs(id='tabs-example', value='tab-1', children=[\n",
    "        dcc.Tab(label='Tab one', value='tab-1'),\n",
    "        dcc.Tab(label='Tab two', value='tab-2'),\n",
    "    ]),\n",
    "])\n",
    "\n",
    "\n",
    "app.clientside_callback(\n",
    "    \"\"\"\n",
    "    function(tab_value) {\n",
    "        if (tab_value === 'tab-1') {\n",
    "            document.title = 'Tab 1'\n",
    "        } else if (tab_value === 'tab-2') {\n",
    "            document.title = 'Tab 2'\n",
    "        }\n",
    "    }\n",
    "    \"\"\",\n",
    "    Output('blank-output', 'children'),\n",
    "    Input('tabs-example', 'value')\n",
    ")\n",
    "\n",
    "if __name__ == '__main__':\n",
    "    app.run_server(debug=True)\n"
   ]
  },
  {
   "cell_type": "markdown",
   "metadata": {},
   "source": [
    "Updating the page based off of the URL would be similar: the input of the callback would be the `pathname` property of `dcc.Location`. See the [URLs and Multi Page Apps](https://dash.plotly.com/urls) chapter for a `dcc.Location` example."
   ]
  },
  {
   "cell_type": "markdown",
   "metadata": {},
   "source": [
    "URLを元にしたページの更新も同様です。コールバックの入力は `dcc.Location` の `pathname` プロパティとなります。dcc.Location`の例については、[URLとマルチページアプリケーション](https://dash.plotly.com/urls)の章を参照してください。"
   ]
  },
  {
   "cell_type": "markdown",
   "metadata": {},
   "source": [
    "## Customizing or Removing Dash's \"Updating...\" Message\n",
    "\n",
    "When a callback is running, Dash updates the document title (the title that appears in your browser tab) with the \"Updating...\" message.\n",
    "\n",
    "Customize this message with the `update_title=` property:"
   ]
  },
  {
   "cell_type": "markdown",
   "metadata": {},
   "source": [
    "## Dashの \"Updating... \"をカスタマイズまたは削除する。メッセージ\n",
    "\n",
    "コールバックが実行されると、Dash はドキュメントのタイトル（ブラウザのタブに表示されるタイトル）を \"Updating...\" というメッセージで更新します。\n",
    "\n",
    "このメッセージは、`update_title=` プロパティでカスタマイズすることができます。"
   ]
  },
  {
   "cell_type": "code",
   "execution_count": null,
   "metadata": {},
   "outputs": [],
   "source": [
    "app = dash.Dash(__name__, update_title='Loading...')"
   ]
  },
  {
   "cell_type": "markdown",
   "metadata": {},
   "source": [
    "Or, prevent this message from appearing at all by setting `update_title=None`:"
   ]
  },
  {
   "cell_type": "markdown",
   "metadata": {},
   "source": [
    "あるいは、`update_title=None`とすることで、このメッセージが全く表示されないようにすることもできます。"
   ]
  },
  {
   "cell_type": "code",
   "execution_count": null,
   "metadata": {},
   "outputs": [],
   "source": [
    "app = dash.Dash(__name__, update_title=None)"
   ]
  },
  {
   "cell_type": "markdown",
   "metadata": {},
   "source": [
    "## Customizing Dash's HTML Index Template\n",
    "\n",
    "Dash's UI is generated dynamically with Dash's React.js front-end. So, on page load, Dash serves a very small HTML template string that includes the CSS and JavaScript that is necessary to render the page and some simple HTML meta tags.\n",
    "\n",
    "This simple HTML string is customizable. You might want to customize this string if you wanted to:\n",
    "\n",
    "- Customize the way that your CSS or JavaScript is included in the page. For example, if you wanted to include remote scripts or if you wanted to include the CSS before the Dash component CSS\n",
    "\n",
    "- Include custom meta tags in your app. Note that meta tags can also be added with the meta_tags argument (example below).\n",
    "\n",
    "- Include a custom version of `dash-renderer`, by instantiating the `DashRenderer` JavaScript class yourself. You can add request hooks this way, by providing a `hooks` config object as in the example below."
   ]
  },
  {
   "cell_type": "markdown",
   "metadata": {},
   "source": [
    "## DashのHTMLインデックステンプレートのカスタマイズ\n",
    "\n",
    "Dash の UI は、Dash の React.js フロントエンドで動的に生成されます。そのため、ページの読み込み時には、ページの表示に必要な CSS と JavaScript、および簡単な HTML meta タグを含む、非常に小さな HTML テンプレート文字列が提供されます。\n",
    "\n",
    "このシンプルなHTML文字列は、カスタマイズが可能です。この文字列をカスタマイズしたいと思うかもしれません。\n",
    "\n",
    "- CSSやJavaScriptをページに含める方法をカスタマイズします。例えば、リモートスクリプトを含めたい場合や、DashコンポーネントCSSの前にCSSを含める場合などです。\n",
    "\n",
    "- アプリにカスタムmetaタグを含めます。meta_tags引数でメタタグを追加することもできます（以下の例）。\n",
    "\n",
    "- `DashRenderer` JavaScript クラスをインスタンス化することで、カスタムバージョンの `dash-renderer` をインクルードすることができます。この方法では、以下の例のように `hooks` 設定オブジェクトを指定して、リクエストフックを追加することができます。"
   ]
  },
  {
   "cell_type": "markdown",
   "metadata": {},
   "source": [
    "### Usage\n",
    "\n",
    "#### Option 1 - index_string\n",
    "\n",
    "Add an `index_string` to modify the default HTML Index Template:"
   ]
  },
  {
   "cell_type": "markdown",
   "metadata": {},
   "source": [
    "### 使用方法\n",
    "\n",
    "#### オプション 1 - index_string\n",
    "\n",
    "デフォルトのHTMLインデックステンプレートを変更するために `index_string` を追加します。"
   ]
  },
  {
   "cell_type": "code",
   "execution_count": null,
   "metadata": {},
   "outputs": [],
   "source": [
    "from dash import Dash, html\n",
    "\n",
    "external_stylesheets = ['https://codepen.io/chriddyp/pen/bWLwgP.css']\n",
    "\n",
    "app = Dash(__name__, external_stylesheets=external_stylesheets)\n",
    "\n",
    "app.index_string = '''\n",
    "<!DOCTYPE html>\n",
    "<html>\n",
    "    <head>\n",
    "        {%metas%}\n",
    "        <title>{%title%}</title>\n",
    "        {%favicon%}\n",
    "        {%css%}\n",
    "    </head>\n",
    "    <body>\n",
    "        <div>My Custom header</div>\n",
    "        {%app_entry%}\n",
    "        <footer>\n",
    "            {%config%}\n",
    "            {%scripts%}\n",
    "            {%renderer%}\n",
    "        </footer>\n",
    "        <div>My Custom footer</div>\n",
    "    </body>\n",
    "</html>\n",
    "'''\n",
    "\n",
    "app.layout = html.Div('Simple Dash App')\n",
    "\n",
    "if __name__ == '__main__':\n",
    "    app.run_server(debug=True)\n"
   ]
  },
  {
   "cell_type": "markdown",
   "metadata": {},
   "source": [
    "The `{%key%}`s are template variables that Dash will fill in automatically with default properties. The available keys are:\n",
    "\n",
    "`{%key%}`はテンプレート変数で、Dashが自動的にデフォルトのプロパティを入力します。利用可能なキーは以下の通りです。\n",
    "\n",
    "- `{%metas%}` (optional)\n",
    "\n",
    "  - The registered meta tags included by the `meta_tags` argument in `dash.Dash`\n",
    "\n",
    "  - `dash.Dash`の `meta_tags` 引数で含まれる登録済みのメタタグ\n",
    "\n",
    "- `{%favicon%}` (optional)\n",
    "\n",
    "  - A favicon link tag if found in the `assets` folder.\n",
    "\n",
    "  - ファビコンリンクタグが `assets` フォルダにあれば、それを使用します。\n",
    "\n",
    "- `{%css%}` (optional)\n",
    "\n",
    "  - `<link/>` tags to css resources. These resources include the Dash component library CSS resources as well as any CSS resources found in the `assets` folder.\n",
    "\n",
    "  - CSS リソースに `<link/>` タグを追加します。これらのリソースには、DashコンポーネントライブラリのCSSリソースと、`assets`フォルダにあるすべてのCSSリソースが含まれます。\n",
    "\n",
    "- `{%title%}` (optional)\n",
    "\n",
    "  - The contents of the page `<title>` tag. [Learn more about `<title/>`](https://developer.mozilla.org/en-US/docs/Web/HTML/Element/title)\n",
    "\n",
    "  - ページの `<title>` タグの内容です。[`<title/>`について詳しくはこちら](https://developer.mozilla.org/en-US/docs/Web/HTML/Element/title)。\n",
    "\n",
    "- `{%config%}` (required)\n",
    "\n",
    "  - An auto-generated tag that includes configuration settings passed from Dash's backend to Dash's front-end (`dash-renderer`).\n",
    "\n",
    "  - Dash のバックエンドから Dash のフロントエンドに渡される設定値を含む自動生成タグ (`dash-renderer`) です。\n",
    "\n",
    "- `{%app_entry%}` (required)\n",
    "\n",
    "  - The container in which the Dash layout is rendered.\n",
    "\n",
    "  - Dashレイアウトがレンダリングされるコンテナ。\n",
    "\n",
    "- `{%scripts%}` (required)\n",
    "\n",
    "  - The set of JavaScript scripts required to render the Dash app. This includes the Dash component JavaScript files as well as any JavaScript files found in the `assets` folder.\n",
    "\n",
    "  - Dashアプリをレンダリングするために必要なJavaScriptスクリプトのセットです。DashコンポーネントのJavaScriptファイルと、`assets`フォルダにあるすべてのJavaScriptファイルが含まれます。\n",
    "\n",
    "- `{%renderer%}` (required)\n",
    "\n",
    "  - The JavaScript script that instantiates `dash-renderer` by calling `new DashRenderer()`\n",
    "\n",
    "  - `new DashRenderer()` を呼び出して `dash-renderer` をインスタンス化する JavaScript スクリプト。"
   ]
  },
  {
   "cell_type": "markdown",
   "metadata": {},
   "source": [
    "#### Option 2 - interpolate_index\n",
    "\n",
    "If your HTML content isn't static or if you would like to introspect or modify the templated variables, then you can override the `Dash.interpolate_index` method."
   ]
  },
  {
   "cell_type": "markdown",
   "metadata": {},
   "source": [
    "#### オプション 2 - interpolate_index\n",
    "\n",
    "HTMLコンテンツが静的でない場合、またはテンプレート化された変数をイントロスペクトまたは修正したい場合は、 `Dash.interpolate_index` メソッドをオーバーライドすることができます。"
   ]
  },
  {
   "cell_type": "code",
   "execution_count": null,
   "metadata": {},
   "outputs": [],
   "source": [
    "from dash import Dash, html\n",
    "\n",
    "class CustomDash(Dash):\n",
    "    def interpolate_index(self, **kwargs):\n",
    "        # Inspect the arguments by printing them\n",
    "        print(kwargs)\n",
    "        return '''\n",
    "        <!DOCTYPE html>\n",
    "        <html>\n",
    "            <head>\n",
    "                <title>My App</title>\n",
    "            </head>\n",
    "            <body>\n",
    "\n",
    "                <div id=\"custom-header\">My custom header</div>\n",
    "                {app_entry}\n",
    "                {config}\n",
    "                {scripts}\n",
    "                {renderer}\n",
    "                <div id=\"custom-footer\">My custom footer</div>\n",
    "            </body>\n",
    "        </html>\n",
    "        '''.format(\n",
    "            app_entry=kwargs['app_entry'],\n",
    "            config=kwargs['config'],\n",
    "            scripts=kwargs['scripts'],\n",
    "            renderer=kwargs['renderer'])\n",
    "\n",
    "app = CustomDash()\n",
    "\n",
    "app.layout = html.Div('Simple Dash App')\n",
    "\n",
    "if __name__ == '__main__':\n",
    "    app.run_server(debug=True)\n"
   ]
  },
  {
   "cell_type": "markdown",
   "metadata": {},
   "source": [
    "Unlike the `index_string` method, where we worked with template string variables, the keyword variables that are passed into `interpolate_index` are already evaluated.\n",
    "\n",
    "In the example above, when we print the input arguments of `interpolate_index` we should see an output like this:"
   ]
  },
  {
   "cell_type": "markdown",
   "metadata": {},
   "source": [
    "テンプレート文字列変数を扱った `index_string` メソッドとは異なり、 `interpolate_index` に渡されるキーワード変数は既に評価されています。\n",
    "\n",
    "上の例では、 `interpolate_index` の入力引数を表示すると、このような出力が得られるはずです。"
   ]
  },
  {
   "cell_type": "markdown",
   "metadata": {},
   "source": [
    "```json\n",
    "{\n",
    "    'title': 'Dash',\n",
    "    'app_entry': '\\\\n<div id=\"react-entry-point\">\\\\n    <div class=\"_dash-loading\">\\\\n        Loading...\\\\n    </div>\\\\n</div>\\\\n',\n",
    "    'favicon': '',\n",
    "    'metas': '<meta charset=\"UTF-8\"/>',\n",
    "    'scripts': '<script src=\"https://unpkg.com/react@15.4.2/dist/react.min.js\"></script>\\\\n<script src=\"https://unpkg.com/react-dom@15.4.2/dist/react-dom.min.js\"></script>\\\\n<script src=\"https://unpkg.com/dash-html-components@0.14.0/dash_html_components/bundle.js\"></script>\\\\n<script src=\"https://unpkg.com/dash-renderer@0.20.0/dash_renderer/bundle.js\"></script>',\n",
    "    'renderer': '<script id=\"_dash-renderer\" type=\"application/javascript\">var renderer = new DashRenderer();</script>',\n",
    "    'config': '<script id=\"_dash-config\" type=\"application/json\">{\"requests_pathname_prefix\": \"/\", \"url_base_pathname\": \"/\"}</script>',\n",
    "    'css': ''\n",
    "}\n",
    "```"
   ]
  },
  {
   "cell_type": "markdown",
   "metadata": {},
   "source": [
    "The values of the `scripts` and `css` keys may be different depending on which component libraries you have included or which files might be in your assets folder."
   ]
  },
  {
   "cell_type": "markdown",
   "metadata": {},
   "source": [
    "`scripts` と `css` のキーの値は、インクルードしたコンポーネントライブラリやアセットフォルダ内のファイルによって異なる場合があります。"
   ]
  },
  {
   "cell_type": "markdown",
   "metadata": {},
   "source": [
    "## Customizing dash-renderer with Request Hooks\n",
    "\n",
    "To instantiate your own version of `dash-renderer`, you can override Dash's HTML Index Template and provide your own script that will be used instead of the standard script. This script should somewhere call `var renderer = new DashRenderer();`, which instantiates the `DashRenderer` class. You can add this script to your index HTML when you're setting `app.index_string`, or you could simply override `app.renderer` like so:"
   ]
  },
  {
   "cell_type": "markdown",
   "metadata": {},
   "source": [
    "## リクエストフックで dash-renderer をカスタマイズする\n",
    "\n",
    "独自の `dash-renderer` を作成するには、Dash の HTML Index Template をオーバーライドして、標準のスクリプトの代わりに使用する独自のスクリプトを指定します。このスクリプトは、どこかで `var renderer = new DashRenderer();` を呼び出し、`DashRenderer` クラスのインスタンスを生成する必要があります。このスクリプトは、`app.index_string`を設定する際に、インデックスのHTMLに追加することもできますし、このように `app.renderer` を単にオーバーライドすることもできます。"
   ]
  },
  {
   "cell_type": "code",
   "execution_count": null,
   "metadata": {},
   "outputs": [],
   "source": [
    "from dash import Dash, html\n",
    "\n",
    "external_stylesheets = ['https://codepen.io/chriddyp/pen/bWLwgP.css']\n",
    "\n",
    "app = Dash(__name__, external_stylesheets=external_stylesheets)\n",
    "\n",
    "app.renderer = 'var renderer = new DashRenderer();'\n",
    "\n",
    "app.layout = html.Div('Simple Dash App')\n",
    "\n",
    "if __name__ == '__main__':\n",
    "    app.run_server(debug=True)\n"
   ]
  },
  {
   "cell_type": "markdown",
   "metadata": {},
   "source": [
    "When you provide your own DashRenderer, you can also pass in a `hooks` object that holds `request_pre` and `request_post` functions. These request hooks will be fired before and after Dash makes a request to its backend. Here's an example:"
   ]
  },
  {
   "cell_type": "markdown",
   "metadata": {},
   "source": [
    "独自の DashRenderer を提供する場合、 `request_pre` と `request_post` 関数を保持した `hooks` オブジェクトを渡すこともできます。これらのリクエストフックは、Dash がバックエンドにリクエストを行う前と後に実行されます。以下はその例です。"
   ]
  },
  {
   "cell_type": "code",
   "execution_count": null,
   "metadata": {},
   "outputs": [],
   "source": [
    "from dash import Dash, html\n",
    "\n",
    "external_stylesheets = ['https://codepen.io/chriddyp/pen/bWLwgP.css']\n",
    "\n",
    "app = Dash(__name__, external_stylesheets=external_stylesheets)\n",
    "\n",
    "app.renderer = '''\n",
    "var renderer = new DashRenderer({\n",
    "    request_pre: (payload) => {\n",
    "        // print out payload parameter\n",
    "        console.log(payload);\n",
    "    },\n",
    "    request_post: (payload, response) => {\n",
    "        // print out payload and response parameter\n",
    "        console.log(payload);\n",
    "        console.log(response);\n",
    "    }\n",
    "})\n",
    "'''\n",
    "\n",
    "app.layout = html.Div('Simple Dash App')\n",
    "\n",
    "if __name__ == '__main__':\n",
    "    app.run_server(debug=True)\n"
   ]
  },
  {
   "cell_type": "markdown",
   "metadata": {},
   "source": [
    "Notice the `request_pre` function takes the payload of the request being sent as its argument, and the `request_post` function takes both the payload and the response of the server as arguments. These can be altered in our function, allowing you to modify the response and request objects that Dash sends to the server. In the example above, the `request_pre` function is fired before each server call, and in the case of this example, it will `console.log()` the request parameter. The `request_post` function will fire **after** each server call, and in our example will also print out the response parameter."
   ]
  },
  {
   "cell_type": "markdown",
   "metadata": {},
   "source": [
    "`request_pre` 関数は送信するリクエストのペイロードを引数にとり、 `request_post` 関数はペイロードとサーバーのレスポンスの両方を引数にとることに注意してください。これらは我々の関数の中で変更することができ、Dash がサーバに送信するレスポンスとリクエストのオブジェクトを変更することができます。上記の例では、 `request_pre` 関数は各サーバー呼び出しの前に起動され、この例の場合、 `console.log()` がリクエストパラメータを受け取ります。`request_post` 関数は、各サーバー呼び出しの **後** に実行され、この例ではレスポンスパラメータも出力されます。"
   ]
  },
  {
   "cell_type": "markdown",
   "metadata": {},
   "source": [
    "## Customizing Meta Tags\n",
    "\n",
    ">Not sure what meta tags are? [Check out this tutorial on meta tags and why you might want to use them](https://developer.mozilla.org/en-US/docs/Learn/HTML/Introduction_to_HTML/The_head_metadata_in_HTML).\n",
    "\n",
    "Dash adds some meta tags to your app by default:"
   ]
  },
  {
   "cell_type": "markdown",
   "metadata": {},
   "source": [
    "## メタタグのカスタマイズ\n",
    "\n",
    ">metaタグが何なのかご存知ですか？[metaタグのチュートリアルとそれを使用する理由を確認してください](https://developer.mozilla.org/en-US/docs/Learn/HTML/Introduction_to_HTML/The_head_metadata_in_HTML)。\n",
    "\n",
    "Dashはデフォルトでアプリにいくつかのmetaタグを追加します。"
   ]
  },
  {
   "cell_type": "markdown",
   "metadata": {},
   "source": [
    "- A tag to tell [Internet Explorer](https://docs.microsoft.com/en-us/previous-versions/windows/internet-explorer/ie-developer/compatibility#understanding-legacy-document-modes) to use the latest renderer available for that browser:\n",
    "\n",
    "- [Internet Explorer](https://docs.microsoft.com/en-us/previous-versions/windows/internet-explorer/ie-developer/compatibility#understanding-legacy-document-modes)に、そのブラウザで利用可能な最新のレンダラーを使用するように指示するタグです。"
   ]
  },
  {
   "cell_type": "markdown",
   "metadata": {},
   "source": [
    "```html\n",
    "<meta http-equiv=\"X-UA-Compatible\" content=\"IE=edge\">\n",
    "```"
   ]
  },
  {
   "cell_type": "markdown",
   "metadata": {},
   "source": [
    "- A tag to set the encoding to UTF-8:\n",
    "\n",
    "- エンコーディングをUTF-8に設定するためのタグ。"
   ]
  },
  {
   "cell_type": "markdown",
   "metadata": {},
   "source": [
    "```html\n",
    "<meta charset=\"UTF-8\">\n",
    "```"
   ]
  },
  {
   "cell_type": "markdown",
   "metadata": {},
   "source": [
    "- And in Dash 2.5 and later, a tag to control [page layouts on mobile browsers](https://developer.mozilla.org/en-US/docs/Web/HTML/Viewport_meta_tag):\n",
    "\n",
    "- また、Dash 2.5以降では、[モバイルブラウザでのページレイアウト](https://developer.mozilla.org/en-US/docs/Web/HTML/Viewport_meta_tag)を制御するためのタグが用意されています。"
   ]
  },
  {
   "cell_type": "markdown",
   "metadata": {},
   "source": [
    "```html\n",
    "<meta name=\"viewport\" content=\"width=device-width, initial-scale=1\">\n",
    "```"
   ]
  },
  {
   "cell_type": "markdown",
   "metadata": {},
   "source": [
    "### Overriding Default Tags\n",
    "\n",
    "To override or add custom meta tags to your application, you can always override Dash's HTML Index Template. Alternatively, Dash provides a shortcut— you can specify meta tags directly in the Dash constructor:\n",
    "\n",
    "### デフォルトのタグを上書きする\n",
    "\n",
    "アプリケーションにカスタム meta タグを上書きしたり追加したりするには、常に Dash の HTML Index Template を上書きすることができます。あるいは、Dash のコンストラクタで直接 meta タグを指定することもできます。"
   ]
  },
  {
   "cell_type": "markdown",
   "metadata": {},
   "source": [
    "- To clear the `name=\"viewport\" content=\"width=device-width, initial-scale=1\"` tag (introduced in Dash 2.5), set an empty tag:\n",
    "\n",
    "- `name=\"viewport\" content=\"width=device-width, initial-scale=1\"` タグ（Dash 2.5で導入）を消すには、空のタグを設定します。"
   ]
  },
  {
   "cell_type": "code",
   "execution_count": null,
   "metadata": {},
   "outputs": [],
   "source": [
    "app = Dash(__name__, meta_tags=[{\"viewport\": \"\"}])"
   ]
  },
  {
   "cell_type": "markdown",
   "metadata": {},
   "source": [
    "- To override the `http-equiv=\"X-UA-Compatible\"` meta tag, set a new one:\n",
    "\n",
    "- `http-equiv=\"X-UA-Compatible\"` メタタグを上書きするには、新しいメタタグを設定します。"
   ]
  },
  {
   "cell_type": "code",
   "execution_count": null,
   "metadata": {},
   "outputs": [],
   "source": [
    "app = Dash(__name__, meta_tags=[{'http-equiv': 'X-UA-Compatible', 'content': 'IE=9'}])"
   ]
  },
  {
   "cell_type": "markdown",
   "metadata": {},
   "source": [
    "- To override the `charset` meta tag, set a new one:\n",
    "\n",
    "- `charset` メタタグを上書きするには、新しいメタタグを設定します。"
   ]
  },
  {
   "cell_type": "code",
   "execution_count": null,
   "metadata": {},
   "outputs": [],
   "source": [
    "app = Dash(__name__, meta_tags=[{'charset': 'iso-8859-1'}])"
   ]
  },
  {
   "cell_type": "markdown",
   "metadata": {},
   "source": [
    "### Adding Additional Tags\n",
    "\n",
    "You can also add additional tags. Here's an example of adding `description` and `robots` meta tags.\n",
    "\n",
    "### 追加タグの追加\n",
    "\n",
    "タグを追加することもできます。ここでは、`description`と`robots`のmetaタグを追加する例を示します。"
   ]
  },
  {
   "cell_type": "code",
   "execution_count": null,
   "metadata": {},
   "outputs": [],
   "source": [
    "from dash import Dash, html\n",
    "\n",
    "app = Dash(meta_tags=[\n",
    "    # A description of the app, used by e.g.\n",
    "    # search engines when displaying search results.\n",
    "    {\n",
    "        'name': 'description',\n",
    "        'content': 'My description'\n",
    "    },\n",
    "    # To request that crawlers not index a page\n",
    "    {\n",
    "        'name': 'robots',\n",
    "        'content': 'noindex'\n",
    "    }\n",
    "])\n",
    "\n",
    "app.layout = html.Div('Simple Dash App')\n",
    "\n",
    "if __name__ == '__main__':\n",
    "    app.run_server(debug=True)\n"
   ]
  },
  {
   "cell_type": "markdown",
   "metadata": {},
   "source": [
    "If you inspect the source of your app, you'll see the meta tags. In this example, there are the two custom tags we added, along with the three default meta tags.\n",
    "\n",
    "アプリのソースを検査すると、metaタグが表示されます。この例では、追加した2つのカスタムタグと、3つのデフォルトのmetaタグがあります。"
   ]
  },
  {
   "cell_type": "markdown",
   "metadata": {},
   "source": [
    "## Serving Dash's Component Libraries Locally or from a CDN\n",
    "\n",
    "**Changed in Dash 1.0.0 - now serve_locally defaults to True, previously it defaulted to False**\n",
    "\n",
    "Dash's component libraries, like `dash_core_components` and `dash_html_components`, are bundled with JavaScript and CSS files. Dash automatically checks with component libraries are being used in your application and will automatically serve these files in order to render the application.\n",
    "\n",
    "By default, dash serves the JavaScript and CSS resources from the local files on the server where Dash is running. This is the more flexible and robust option: in some cases, such as firewalled or airgapped environments, it is the only option. It also avoids some hard-to-debug problems like packages that have not been published to NPM or CDN downtime, and the unlikely but possible scenario of the CDN being hacked. And of course, component developers will want the local version while changing the code, so when dev bundles are requested (such as with `debug=True`) we always serve locally.\n",
    "\n",
    "However, for performance-critical apps served beyond an intranet, online CDNs can often deliver these files much faster than loading the resources from the file system, and will reduce the load on the Dash server."
   ]
  },
  {
   "cell_type": "markdown",
   "metadata": {},
   "source": [
    "## Dash のコンポーネント ライブラリをローカルまたは CDN から提供する\n",
    "\n",
    "**Dash 1.0.0 で変更 - serve_locally のデフォルトは True、以前は False でした**。\n",
    "\n",
    "Dash のコンポーネントライブラリである `dash_core_components` や `dash_html_components` には、JavaScript と CSS ファイルがバンドルされています。Dash はアプリケーションで使用されているコンポーネントライブラリを自動的にチェックし、アプリケーションをレンダリングするために、これらのファイルを自動的に提供します。\n",
    "\n",
    "デフォルトでは、dash は JavaScript と CSS リソースを Dash が動作しているサーバー上のローカル ファイルから提供します。これはより柔軟で堅牢なオプションです。ファイアウォールやエアギャップのある環境などでは、これが唯一の選択肢となる場合もあります。また、NPM にパブリッシュされていないパッケージや CDN のダウンタイムなど、デバッグが困難な問題や、CDN がハッキングされるという、ありえないけどありうるシナリオを回避することができます。もちろん、コンポーネント開発者はコードを変更する際にローカルバージョンを求めるでしょうから、開発用バンドルが要求された場合 (`debug=True` など) は常にローカルで提供するようにしています。\n",
    "\n",
    "しかし、イントラネット外で提供されるパフォーマンス重視のアプリケーションの場合、オンラインCDNはファイルシステムからリソースを読み込むよりもはるかに速くこれらのファイルを配信できることが多く、Dashサーバーの負荷を軽減することができるようになります。"
   ]
  },
  {
   "cell_type": "code",
   "execution_count": null,
   "metadata": {},
   "outputs": [],
   "source": [
    "from dash import Dash\n",
    "\n",
    "app = dash.Dash(__name__, serve_locally=False)"
   ]
  },
  {
   "cell_type": "markdown",
   "metadata": {},
   "source": [
    "This will load the bundles from the <https://unpkg.com/> CDN, which is a community-maintained project that serves JavaScript bundles from NPM. We don't maintain it, so we cannot attest or guarantee to its uptime, performance, security, or long term availability.\n",
    "\n",
    "Also note that we don't publish the dev bundles to `unpkg`, so when running the app locally with `python app.py`, the local JavaScript files will be served. When the app is deployed with `gunicorn`, it'll switch to the CDN."
   ]
  },
  {
   "cell_type": "markdown",
   "metadata": {},
   "source": [
    "これは <https://unpkg.com/> CDN からバンドルを読み込みます。CDN は NPM から JavaScript バンドルを提供する、コミュニティによって維持されているプロジェクトです。私たちはこの CDN を保守していないので、稼働時間やパフォーマンス、セキュリティ、長期的な可用性を保証することはできません。\n",
    "\n",
    "また、私たちは `unpkg` に開発版バンドルを公開していないので、`python app.py` でローカルにアプリを実行すると、ローカルの JavaScript ファイルが提供されることに注意してください。アプリが `gunicorn` でデプロイされると、CDN に切り替わります。"
   ]
  },
  {
   "cell_type": "markdown",
   "metadata": {},
   "source": [
    "## Sample Dash CSS Stylesheet\n",
    "\n",
    "Currently, Dash does not include styles by default.\n",
    "\n",
    "To get started with Dash styles, we recommend starting with this [CSS stylesheet](https://codepen.io/chriddyp/pen/bWLwgP?editors=1100) hosted on [Codepen](https://codepen.io/).\n",
    "\n",
    "To include this stylesheet in your application, copy and paste it into a file in your `assets` folder . You can view the raw CSS source here: <https://codepen.io/chriddyp/pen/bWLwgP.css>.\n",
    "\n",
    "Here is an embedded version of this stylesheet."
   ]
  },
  {
   "cell_type": "markdown",
   "metadata": {},
   "source": [
    "## Sample Dash CSS Stylesheet (サンプル Dash CSS スタイルシート)\n",
    "\n",
    "現在、Dash にはデフォルトでスタイルが含まれていません。\n",
    "\n",
    "Dash のスタイルを使い始めるには、[Codepen](https://codepen.io/) でホストされているこの [CSS スタイルシート](https://codepen.io/chriddyp/pen/bWLwgP?editors=1100) から始めることをお勧めします。\n",
    "\n",
    "このスタイルシートをアプリケーションに含めるには、コピーして `assets` フォルダにあるファイルに貼り付けてください。生のCSSソースは、ここで見ることができます。<https://codepen.io/chriddyp/pen/bWLwgP.css>.\n",
    "\n",
    "以下は、このスタイルシートの埋め込みバージョンです。"
   ]
  },
  {
   "cell_type": "markdown",
   "metadata": {},
   "source": [
    "## Syntax Highlighting With Markdown\n",
    "\n",
    "Both [dash-table](https://dash.plotly.com/datatable) and [dash-core-components](https://dash.plotly.com/dash-core-components) support Markdown formatting, which you can use to specify syntax highlighting for inline code.\n",
    "\n",
    "Highlighting is handled by [highlight.js]. By default, only certain languages are recognized, and there is only one color scheme available. However, you can override this by downloading a custom `highlight.js` package. To do this, visit <https://highlightjs.org/download/>, and in the **Custom package** section, select all the languages that you require, download your package, and place the resulting `highlight.pack.js` file into the `assets` folder. The package should also come with a `styles/` directory; to use a different color scheme, copy the corresponding stylesheet into your app's `assets` folder."
   ]
  },
  {
   "cell_type": "markdown",
   "metadata": {},
   "source": [
    "## Markdown によるシンタックスハイライト\n",
    "\n",
    "[dash-table](https://dash.plotly.com/datatable) と [dash-core-components](https://dash.plotly.com/dash-core-components) は Markdown フォーマットをサポートしており、これを使用してインラインコードのシンタックスハイライトを指定することができます。\n",
    "\n",
    "ハイライトは [highlight.js](https://highlightjs.org/) で処理されます。デフォルトでは、特定の言語のみが認識され、配色は1種類のみです。しかし、カスタムの `highlight.js` パッケージをダウンロードすることで、これを上書きすることができます。これを行うには、<https://highlightjs.org/download/>にアクセスし、**カスタムパッケージ**のセクションで、必要なすべての言語を選択し、パッケージをダウンロードし、できた `highlight.pack.js` ファイルを `assets` フォルダに置きます。パッケージには `styles/` ディレクトリも含まれているはずです。別のカラースキームを使用するには、対応するスタイルシートをアプリの `assets` フォルダにコピーしてください。"
   ]
  }
 ],
 "metadata": {
  "kernelspec": {
   "display_name": "Python 3.10.8 ('venv': venv)",
   "language": "python",
   "name": "python3"
  },
  "language_info": {
   "name": "python",
   "version": "3.10.8"
  },
  "orig_nbformat": 4,
  "vscode": {
   "interpreter": {
    "hash": "f00ef37bf0773123a82dc35b265f2423c39ad3a8f142d1f392434fb9c90d58fd"
   }
  }
 },
 "nbformat": 4,
 "nbformat_minor": 2
}
